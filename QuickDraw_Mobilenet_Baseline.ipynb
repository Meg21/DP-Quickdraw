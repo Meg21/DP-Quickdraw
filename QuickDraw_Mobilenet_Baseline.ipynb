{
  "nbformat": 4,
  "nbformat_minor": 0,
  "metadata": {
    "colab": {
      "name": "QuickDraw_Mobile_CNN_Final.ipynb",
      "version": "0.3.2",
      "provenance": [],
      "collapsed_sections": []
    },
    "kernelspec": {
      "name": "python3",
      "display_name": "Python 3"
    },
    "accelerator": "GPU"
  },
  "cells": [
    {
      "metadata": {
        "id": "fCYRpvZUnK69",
        "colab_type": "code",
        "colab": {}
      },
      "cell_type": "code",
      "source": [
        "from keras.layers.convolutional import ZeroPadding2D\n",
        "from keras.utils import np_utils\n",
        "from keras.models import load_model\n",
        "from keras.layers import Dense, Dropout, Flatten, Conv2D, MaxPool2D, Activation, BatchNormalization\n",
        "from keras.models import Sequential\n",
        "from sklearn.model_selection import train_test_split\n",
        "from sklearn.metrics import confusion_matrix\n",
        "from keras import optimizers\n",
        "import pandas as pd\n",
        "import numpy as np\n",
        "import matplotlib.pyplot as plt\n",
        "import ast\n",
        "from PIL import Image, ImageDraw\n",
        "import cv2\n",
        "from sklearn.utils import shuffle\n",
        "from tensorflow.keras.applications import MobileNet\n",
        "%matplotlib inline\n",
        "from tensorflow.keras.optimizers import Adam\n",
        "#! pip install pydrive"
      ],
      "execution_count": 0,
      "outputs": []
    },
    {
      "metadata": {
        "id": "ha8jD2Xfnx7g",
        "colab_type": "text"
      },
      "cell_type": "markdown",
      "source": [
        "# Loading Data"
      ]
    },
    {
      "metadata": {
        "id": "lDLcGJXYnhe4",
        "colab_type": "code",
        "colab": {}
      },
      "cell_type": "code",
      "source": [
        "import os\n",
        "from pydrive.auth import GoogleAuth\n",
        "from pydrive.drive import GoogleDrive\n",
        "from google.colab import auth\n",
        "from oauth2client.client import GoogleCredentials\n",
        "auth.authenticate_user()\n",
        "gauth = GoogleAuth()\n",
        "gauth.credentials = GoogleCredentials.get_application_default()\n",
        "drive = GoogleDrive(gauth)"
      ],
      "execution_count": 0,
      "outputs": []
    },
    {
      "metadata": {
        "id": "YoL7IqdznjSQ",
        "colab_type": "code",
        "colab": {}
      },
      "cell_type": "code",
      "source": [
        "# choose a local (colab) directory to store the data.\n",
        "local_download_path = os.path.expanduser('~/data')\n",
        "try:\n",
        "  os.makedirs(local_download_path)\n",
        "except: pass\n",
        "\n",
        "\n",
        "file_list = drive.ListFile(\n",
        "    {'q': \"'1GiITmsHYBfeGth-LTfnXpd6524D4-uDm' in parents\"}).GetList()\n"
      ],
      "execution_count": 0,
      "outputs": []
    },
    {
      "metadata": {
        "id": "NQsnOwq7nrEp",
        "colab_type": "code",
        "outputId": "51135043-7659-4294-f8b3-4c9daf5e7b3c",
        "colab": {
          "base_uri": "https://localhost:8080/",
          "height": 103
        }
      },
      "cell_type": "code",
      "source": [
        "# Testing for 5 classes\n",
        "i =1\n",
        "for f in file_list:\n",
        "  i = i+1\n",
        "  # 3. Create & download by id.\n",
        "  print('title: %s, id: %s' % (f['title'], f['id']))\n",
        "  fname = os.path.join(local_download_path, f['title'])\n",
        "  # print('downloading to {}'.format(fname))\n",
        "  f_ = drive.CreateFile({'id': f['id']})\n",
        "  f_.GetContentFile(fname)\n",
        "  if i == 6:\n",
        "    break\n"
      ],
      "execution_count": 5,
      "outputs": [
        {
          "output_type": "stream",
          "text": [
            "title: bench.csv, id: 1dYztgciO88Z_kI12edZdLCtrQR9VLfbI\n",
            "title: shovel.csv, id: 1zvhytLDcfqY7uA3y_Ot5YKxBica9Dw8D\n",
            "title: screwdriver.csv, id: 1VQNK5KowUhRtujJfwW7BvO91F-waYW2i\n",
            "title: piano.csv, id: 1Guz55mbo1cDM3ZWt3u-Mlw0FGyfKKZZQ\n",
            "title: crayon.csv, id: 1Daw8Jvx7yG7JN3pa29sI_eZqzHTLaKOQ\n"
          ],
          "name": "stdout"
        }
      ]
    },
    {
      "metadata": {
        "id": "b1Pb2y0KyqKP",
        "colab_type": "text"
      },
      "cell_type": "markdown",
      "source": [
        "#Helper Functions\n"
      ]
    },
    {
      "metadata": {
        "id": "E8vRUDO1yfQR",
        "colab_type": "code",
        "colab": {}
      },
      "cell_type": "code",
      "source": [
        "def plot_metrics_primary(acc, val_acc, loss, val_loss):\n",
        "    fig, (ax1, ax2) = plt.subplots(1, 2, sharex='col', figsize=(20,7))\n",
        "\n",
        "    ax1.plot(acc, label='Train Accuracy')\n",
        "    ax1.plot(val_acc, label='Validation accuracy')\n",
        "    ax1.legend(loc='best')\n",
        "    ax1.set_title('Accuracy')\n",
        "\n",
        "    ax2.plot(loss, label='Train loss')\n",
        "    ax2.plot(val_loss, label='Validation loss')\n",
        "    ax2.legend(loc='best')\n",
        "    ax2.set_title('Loss')\n",
        "\n",
        "    plt.xlabel('Epochs')\n",
        "   \n",
        "\n",
        "def plot_confusion_matrix(cnf_matrix, labels): \n",
        "    cnf_matrix_norm = cnf_matrix.astype('float') / cnf_matrix.sum(axis=1)[:, np.newaxis]\n",
        "    df_cm = pd.DataFrame(cnf_matrix_norm, index=labels, columns=labels)\n",
        "    plt.figure(figsize=(20,7))\n",
        "    sns.heatmap(df_cm, annot=True, fmt='.2f', cmap=\"Blues\")\n",
        "    plt.show()\n",
        "    \n",
        "# Function to plot images.\n",
        "def plot_image(image_array):\n",
        "    fig2 = plt.figure()\n",
        "    ax2 = fig2.add_subplot(111, frameon=False)\n",
        "    ax2.imshow(image_array)\n",
        "    plt.axis('off')\n",
        "    plt.show()\n",
        "\n",
        "#sample_1 = test['drawing_np'].values[0]\n",
        "#plot_image(sample_1)"
      ],
      "execution_count": 0,
      "outputs": []
    },
    {
      "metadata": {
        "id": "Q2DFcuDRfoeu",
        "colab_type": "text"
      },
      "cell_type": "markdown",
      "source": [
        "#Params\n"
      ]
    },
    {
      "metadata": {
        "id": "qRVcVDXbcNMc",
        "colab_type": "text"
      },
      "cell_type": "markdown",
      "source": [
        ""
      ]
    },
    {
      "metadata": {
        "id": "qVNI3srwfmJG",
        "colab_type": "code",
        "colab": {}
      },
      "cell_type": "code",
      "source": [
        "# Model parameters\n",
        "BATCH_SIZE = 64\n",
        "EPOCHS = 15\n",
        "LEARNING_RATE = 0.001\n",
        "HEIGHT = 32\n",
        "WIDTH = 32\n",
        "CHANNEL = 1"
      ],
      "execution_count": 0,
      "outputs": []
    },
    {
      "metadata": {
        "id": "4LMpPpQ3Y6C4",
        "colab_type": "text"
      },
      "cell_type": "markdown",
      "source": [
        "##Reading Data\n"
      ]
    },
    {
      "metadata": {
        "id": "VrouZm6Bbn4C",
        "colab_type": "code",
        "outputId": "bd04e757-e91f-4303-875c-bf31cdb2842a",
        "colab": {
          "base_uri": "https://localhost:8080/",
          "height": 51
        }
      },
      "cell_type": "code",
      "source": [
        "TRAIN_PATH = '/root/data/'\n",
        "TEST_PATH = '../input/test_simplified.csv'\n",
        "SUBMISSION_NAME = 'submission.csv'\n",
        "n_cat = 5\n",
        "\n",
        "train = pd.DataFrame()\n",
        "for file in os.listdir(TRAIN_PATH):\n",
        "    train = train.append(pd.read_csv(TRAIN_PATH + file, usecols=[1, 5], nrows = 2000))\n",
        "# Shuffle dat\n",
        "train = shuffle(train, random_state=123)\n",
        "print(len(train))\n",
        "print(list(train))"
      ],
      "execution_count": 8,
      "outputs": [
        {
          "output_type": "stream",
          "text": [
            "10000\n",
            "['drawing', 'word']\n"
          ],
          "name": "stdout"
        }
      ]
    },
    {
      "metadata": {
        "id": "3H5T2MMLbqDX",
        "colab_type": "code",
        "outputId": "fa977786-4198-48d8-c68c-85efd9e33cdf",
        "colab": {
          "base_uri": "https://localhost:8080/",
          "height": 34
        }
      },
      "cell_type": "code",
      "source": [
        "#Fixing labels.\n",
        "train['word'] = train['word'].replace(' ', '_', regex=True)\n",
        "# Get labels and one-hot encode them.\n",
        "classes_names = train['word'].unique()\n",
        "print(classes_names)\n",
        "labels = pd.get_dummies(train['word']).values\n",
        "train.drop(['word'], axis=1, inplace=True)\n",
        "N_CLASSES = len(classes_names)"
      ],
      "execution_count": 9,
      "outputs": [
        {
          "output_type": "stream",
          "text": [
            "['shovel' 'crayon' 'piano' 'bench' 'screwdriver']\n"
          ],
          "name": "stdout"
        }
      ]
    },
    {
      "metadata": {
        "id": "eUu4udAVtI2O",
        "colab_type": "code",
        "colab": {}
      },
      "cell_type": "code",
      "source": [
        "# third work\n",
        "def drawing_to_np(drawing, shape=(32, 32)):\n",
        "    # evaluates the drawing array\n",
        "    drawing = eval(drawing)\n",
        "    fig, ax = plt.subplots()\n",
        "    for x,y in drawing:\n",
        "        ax.plot(x, y, marker='.')\n",
        "        ax.axis('off')        \n",
        "    fig.canvas.draw()\n",
        "    # Close figure so it won't get displayed while transforming the set\n",
        "    plt.close(fig)\n",
        "    # Convert images to numpy array\n",
        "    np_drawing = np.array(fig.canvas.renderer._renderer)\n",
        "    # Take only one channel\n",
        "    np_drawing =np_drawing[:, :, 1]    \n",
        "    # Normalize data\n",
        "    np_drawing = np_drawing / 255.\n",
        "    return cv2.resize(np_drawing, shape) # Resize array\n"
      ],
      "execution_count": 0,
      "outputs": []
    },
    {
      "metadata": {
        "id": "TBrEwsfOfuSb",
        "colab_type": "code",
        "colab": {}
      },
      "cell_type": "code",
      "source": [
        "# Transform drawing into numpy arrays\n",
        "train['drawing'] = train['drawing'].apply(drawing_to_np)"
      ],
      "execution_count": 0,
      "outputs": []
    },
    {
      "metadata": {
        "id": "zJgSaXSAz3Fc",
        "colab_type": "code",
        "colab": {
          "base_uri": "https://localhost:8080/",
          "height": 34
        },
        "outputId": "bb1f95ce-b4f1-4839-9359-941679da00d9"
      },
      "cell_type": "code",
      "source": [
        "print(train['drawing'].shape)"
      ],
      "execution_count": 12,
      "outputs": [
        {
          "output_type": "stream",
          "text": [
            "(10000,)\n"
          ],
          "name": "stdout"
        }
      ]
    },
    {
      "metadata": {
        "id": "uVhawaCpNJji",
        "colab_type": "code",
        "colab": {
          "base_uri": "https://localhost:8080/",
          "height": 34
        },
        "outputId": "406ee35d-9f63-410a-d8dd-c57d28b6cdbc"
      },
      "cell_type": "code",
      "source": [
        "# Reshape arrays\n",
        "train_drawings = np.asarray([x.reshape(HEIGHT, WIDTH, CHANNEL) for x in train['drawing'].values])\n",
        "print(train_drawings.shape)"
      ],
      "execution_count": 13,
      "outputs": [
        {
          "output_type": "stream",
          "text": [
            "(10000, 32, 32, 1)\n"
          ],
          "name": "stdout"
        }
      ]
    },
    {
      "metadata": {
        "id": "1j7Vv8tctlHP",
        "colab_type": "code",
        "colab": {
          "base_uri": "https://localhost:8080/",
          "height": 34
        },
        "outputId": "83de49fe-6afc-4015-f52e-5cfab0bd48a2"
      },
      "cell_type": "code",
      "source": [
        "x_train, x_val, y_train, y_val = train_test_split(train_drawings, labels, test_size= 0.2, random_state=1)\n",
        "print(y_train.shape)"
      ],
      "execution_count": 14,
      "outputs": [
        {
          "output_type": "stream",
          "text": [
            "(8000, 5)\n"
          ],
          "name": "stdout"
        }
      ]
    },
    {
      "metadata": {
        "id": "Zh5GfyY5G3g9",
        "colab_type": "text"
      },
      "cell_type": "markdown",
      "source": [
        "# Mobile Net"
      ]
    },
    {
      "metadata": {
        "id": "fDuaUqjfzSec",
        "colab_type": "code",
        "colab": {}
      },
      "cell_type": "code",
      "source": [
        "STEPS = 800\n",
        "EPOCHS = 10\n",
        "size = 32\n",
        "batchsize = 680\n",
        "optimizer = optimizers.adam(lr=LEARNING_RATE)"
      ],
      "execution_count": 0,
      "outputs": []
    },
    {
      "metadata": {
        "id": "qhUT2jkZwfbi",
        "colab_type": "code",
        "colab": {
          "base_uri": "https://localhost:8080/",
          "height": 3358
        },
        "outputId": "7a850eb1-aa2b-44fd-b6c4-5df5c84624c9"
      },
      "cell_type": "code",
      "source": [
        "model_mn = MobileNet(input_shape=(size, size, 1), alpha=1., weights=None, classes=N_CLASSES)\n",
        "model_mn.compile(optimizer= Adam(lr=0.002), loss='categorical_crossentropy',\n",
        "              metrics=[\"accuracy\"])\n",
        "print(model_mn.summary())"
      ],
      "execution_count": 19,
      "outputs": [
        {
          "output_type": "stream",
          "text": [
            "_________________________________________________________________\n",
            "Layer (type)                 Output Shape              Param #   \n",
            "=================================================================\n",
            "input_2 (InputLayer)         (None, 32, 32, 1)         0         \n",
            "_________________________________________________________________\n",
            "conv1_pad (ZeroPadding2D)    (None, 33, 33, 1)         0         \n",
            "_________________________________________________________________\n",
            "conv1 (Conv2D)               (None, 16, 16, 32)        288       \n",
            "_________________________________________________________________\n",
            "conv1_bn (BatchNormalization (None, 16, 16, 32)        128       \n",
            "_________________________________________________________________\n",
            "conv1_relu (ReLU)            (None, 16, 16, 32)        0         \n",
            "_________________________________________________________________\n",
            "conv_dw_1 (DepthwiseConv2D)  (None, 16, 16, 32)        288       \n",
            "_________________________________________________________________\n",
            "conv_dw_1_bn (BatchNormaliza (None, 16, 16, 32)        128       \n",
            "_________________________________________________________________\n",
            "conv_dw_1_relu (ReLU)        (None, 16, 16, 32)        0         \n",
            "_________________________________________________________________\n",
            "conv_pw_1 (Conv2D)           (None, 16, 16, 64)        2048      \n",
            "_________________________________________________________________\n",
            "conv_pw_1_bn (BatchNormaliza (None, 16, 16, 64)        256       \n",
            "_________________________________________________________________\n",
            "conv_pw_1_relu (ReLU)        (None, 16, 16, 64)        0         \n",
            "_________________________________________________________________\n",
            "conv_pad_2 (ZeroPadding2D)   (None, 17, 17, 64)        0         \n",
            "_________________________________________________________________\n",
            "conv_dw_2 (DepthwiseConv2D)  (None, 8, 8, 64)          576       \n",
            "_________________________________________________________________\n",
            "conv_dw_2_bn (BatchNormaliza (None, 8, 8, 64)          256       \n",
            "_________________________________________________________________\n",
            "conv_dw_2_relu (ReLU)        (None, 8, 8, 64)          0         \n",
            "_________________________________________________________________\n",
            "conv_pw_2 (Conv2D)           (None, 8, 8, 128)         8192      \n",
            "_________________________________________________________________\n",
            "conv_pw_2_bn (BatchNormaliza (None, 8, 8, 128)         512       \n",
            "_________________________________________________________________\n",
            "conv_pw_2_relu (ReLU)        (None, 8, 8, 128)         0         \n",
            "_________________________________________________________________\n",
            "conv_dw_3 (DepthwiseConv2D)  (None, 8, 8, 128)         1152      \n",
            "_________________________________________________________________\n",
            "conv_dw_3_bn (BatchNormaliza (None, 8, 8, 128)         512       \n",
            "_________________________________________________________________\n",
            "conv_dw_3_relu (ReLU)        (None, 8, 8, 128)         0         \n",
            "_________________________________________________________________\n",
            "conv_pw_3 (Conv2D)           (None, 8, 8, 128)         16384     \n",
            "_________________________________________________________________\n",
            "conv_pw_3_bn (BatchNormaliza (None, 8, 8, 128)         512       \n",
            "_________________________________________________________________\n",
            "conv_pw_3_relu (ReLU)        (None, 8, 8, 128)         0         \n",
            "_________________________________________________________________\n",
            "conv_pad_4 (ZeroPadding2D)   (None, 9, 9, 128)         0         \n",
            "_________________________________________________________________\n",
            "conv_dw_4 (DepthwiseConv2D)  (None, 4, 4, 128)         1152      \n",
            "_________________________________________________________________\n",
            "conv_dw_4_bn (BatchNormaliza (None, 4, 4, 128)         512       \n",
            "_________________________________________________________________\n",
            "conv_dw_4_relu (ReLU)        (None, 4, 4, 128)         0         \n",
            "_________________________________________________________________\n",
            "conv_pw_4 (Conv2D)           (None, 4, 4, 256)         32768     \n",
            "_________________________________________________________________\n",
            "conv_pw_4_bn (BatchNormaliza (None, 4, 4, 256)         1024      \n",
            "_________________________________________________________________\n",
            "conv_pw_4_relu (ReLU)        (None, 4, 4, 256)         0         \n",
            "_________________________________________________________________\n",
            "conv_dw_5 (DepthwiseConv2D)  (None, 4, 4, 256)         2304      \n",
            "_________________________________________________________________\n",
            "conv_dw_5_bn (BatchNormaliza (None, 4, 4, 256)         1024      \n",
            "_________________________________________________________________\n",
            "conv_dw_5_relu (ReLU)        (None, 4, 4, 256)         0         \n",
            "_________________________________________________________________\n",
            "conv_pw_5 (Conv2D)           (None, 4, 4, 256)         65536     \n",
            "_________________________________________________________________\n",
            "conv_pw_5_bn (BatchNormaliza (None, 4, 4, 256)         1024      \n",
            "_________________________________________________________________\n",
            "conv_pw_5_relu (ReLU)        (None, 4, 4, 256)         0         \n",
            "_________________________________________________________________\n",
            "conv_pad_6 (ZeroPadding2D)   (None, 5, 5, 256)         0         \n",
            "_________________________________________________________________\n",
            "conv_dw_6 (DepthwiseConv2D)  (None, 2, 2, 256)         2304      \n",
            "_________________________________________________________________\n",
            "conv_dw_6_bn (BatchNormaliza (None, 2, 2, 256)         1024      \n",
            "_________________________________________________________________\n",
            "conv_dw_6_relu (ReLU)        (None, 2, 2, 256)         0         \n",
            "_________________________________________________________________\n",
            "conv_pw_6 (Conv2D)           (None, 2, 2, 512)         131072    \n",
            "_________________________________________________________________\n",
            "conv_pw_6_bn (BatchNormaliza (None, 2, 2, 512)         2048      \n",
            "_________________________________________________________________\n",
            "conv_pw_6_relu (ReLU)        (None, 2, 2, 512)         0         \n",
            "_________________________________________________________________\n",
            "conv_dw_7 (DepthwiseConv2D)  (None, 2, 2, 512)         4608      \n",
            "_________________________________________________________________\n",
            "conv_dw_7_bn (BatchNormaliza (None, 2, 2, 512)         2048      \n",
            "_________________________________________________________________\n",
            "conv_dw_7_relu (ReLU)        (None, 2, 2, 512)         0         \n",
            "_________________________________________________________________\n",
            "conv_pw_7 (Conv2D)           (None, 2, 2, 512)         262144    \n",
            "_________________________________________________________________\n",
            "conv_pw_7_bn (BatchNormaliza (None, 2, 2, 512)         2048      \n",
            "_________________________________________________________________\n",
            "conv_pw_7_relu (ReLU)        (None, 2, 2, 512)         0         \n",
            "_________________________________________________________________\n",
            "conv_dw_8 (DepthwiseConv2D)  (None, 2, 2, 512)         4608      \n",
            "_________________________________________________________________\n",
            "conv_dw_8_bn (BatchNormaliza (None, 2, 2, 512)         2048      \n",
            "_________________________________________________________________\n",
            "conv_dw_8_relu (ReLU)        (None, 2, 2, 512)         0         \n",
            "_________________________________________________________________\n",
            "conv_pw_8 (Conv2D)           (None, 2, 2, 512)         262144    \n",
            "_________________________________________________________________\n",
            "conv_pw_8_bn (BatchNormaliza (None, 2, 2, 512)         2048      \n",
            "_________________________________________________________________\n",
            "conv_pw_8_relu (ReLU)        (None, 2, 2, 512)         0         \n",
            "_________________________________________________________________\n",
            "conv_dw_9 (DepthwiseConv2D)  (None, 2, 2, 512)         4608      \n",
            "_________________________________________________________________\n",
            "conv_dw_9_bn (BatchNormaliza (None, 2, 2, 512)         2048      \n",
            "_________________________________________________________________\n",
            "conv_dw_9_relu (ReLU)        (None, 2, 2, 512)         0         \n",
            "_________________________________________________________________\n",
            "conv_pw_9 (Conv2D)           (None, 2, 2, 512)         262144    \n",
            "_________________________________________________________________\n",
            "conv_pw_9_bn (BatchNormaliza (None, 2, 2, 512)         2048      \n",
            "_________________________________________________________________\n",
            "conv_pw_9_relu (ReLU)        (None, 2, 2, 512)         0         \n",
            "_________________________________________________________________\n",
            "conv_dw_10 (DepthwiseConv2D) (None, 2, 2, 512)         4608      \n",
            "_________________________________________________________________\n",
            "conv_dw_10_bn (BatchNormaliz (None, 2, 2, 512)         2048      \n",
            "_________________________________________________________________\n",
            "conv_dw_10_relu (ReLU)       (None, 2, 2, 512)         0         \n",
            "_________________________________________________________________\n",
            "conv_pw_10 (Conv2D)          (None, 2, 2, 512)         262144    \n",
            "_________________________________________________________________\n",
            "conv_pw_10_bn (BatchNormaliz (None, 2, 2, 512)         2048      \n",
            "_________________________________________________________________\n",
            "conv_pw_10_relu (ReLU)       (None, 2, 2, 512)         0         \n",
            "_________________________________________________________________\n",
            "conv_dw_11 (DepthwiseConv2D) (None, 2, 2, 512)         4608      \n",
            "_________________________________________________________________\n",
            "conv_dw_11_bn (BatchNormaliz (None, 2, 2, 512)         2048      \n",
            "_________________________________________________________________\n",
            "conv_dw_11_relu (ReLU)       (None, 2, 2, 512)         0         \n",
            "_________________________________________________________________\n",
            "conv_pw_11 (Conv2D)          (None, 2, 2, 512)         262144    \n",
            "_________________________________________________________________\n",
            "conv_pw_11_bn (BatchNormaliz (None, 2, 2, 512)         2048      \n",
            "_________________________________________________________________\n",
            "conv_pw_11_relu (ReLU)       (None, 2, 2, 512)         0         \n",
            "_________________________________________________________________\n",
            "conv_pad_12 (ZeroPadding2D)  (None, 3, 3, 512)         0         \n",
            "_________________________________________________________________\n",
            "conv_dw_12 (DepthwiseConv2D) (None, 1, 1, 512)         4608      \n",
            "_________________________________________________________________\n",
            "conv_dw_12_bn (BatchNormaliz (None, 1, 1, 512)         2048      \n",
            "_________________________________________________________________\n",
            "conv_dw_12_relu (ReLU)       (None, 1, 1, 512)         0         \n",
            "_________________________________________________________________\n",
            "conv_pw_12 (Conv2D)          (None, 1, 1, 1024)        524288    \n",
            "_________________________________________________________________\n",
            "conv_pw_12_bn (BatchNormaliz (None, 1, 1, 1024)        4096      \n",
            "_________________________________________________________________\n",
            "conv_pw_12_relu (ReLU)       (None, 1, 1, 1024)        0         \n",
            "_________________________________________________________________\n",
            "conv_dw_13 (DepthwiseConv2D) (None, 1, 1, 1024)        9216      \n",
            "_________________________________________________________________\n",
            "conv_dw_13_bn (BatchNormaliz (None, 1, 1, 1024)        4096      \n",
            "_________________________________________________________________\n",
            "conv_dw_13_relu (ReLU)       (None, 1, 1, 1024)        0         \n",
            "_________________________________________________________________\n",
            "conv_pw_13 (Conv2D)          (None, 1, 1, 1024)        1048576   \n",
            "_________________________________________________________________\n",
            "conv_pw_13_bn (BatchNormaliz (None, 1, 1, 1024)        4096      \n",
            "_________________________________________________________________\n",
            "conv_pw_13_relu (ReLU)       (None, 1, 1, 1024)        0         \n",
            "_________________________________________________________________\n",
            "global_average_pooling2d_1 ( (None, 1024)              0         \n",
            "_________________________________________________________________\n",
            "reshape_1 (Reshape)          (None, 1, 1, 1024)        0         \n",
            "_________________________________________________________________\n",
            "dropout (Dropout)            (None, 1, 1, 1024)        0         \n",
            "_________________________________________________________________\n",
            "conv_preds (Conv2D)          (None, 1, 1, 5)           5125      \n",
            "_________________________________________________________________\n",
            "act_softmax (Activation)     (None, 1, 1, 5)           0         \n",
            "_________________________________________________________________\n",
            "reshape_2 (Reshape)          (None, 5)                 0         \n",
            "=================================================================\n",
            "Total params: 3,233,413\n",
            "Trainable params: 3,211,525\n",
            "Non-trainable params: 21,888\n",
            "_________________________________________________________________\n",
            "None\n"
          ],
          "name": "stdout"
        }
      ]
    },
    {
      "metadata": {
        "id": "_Q7Qn320wgKM",
        "colab_type": "code",
        "colab": {
          "base_uri": "https://localhost:8080/",
          "height": 551
        },
        "outputId": "06ab4e68-f294-46de-9c58-bab3db47d923"
      },
      "cell_type": "code",
      "source": [
        "history = model_mn.fit(x_train, y_train, batch_size=BATCH_SIZE, epochs=15, validation_data=(x_val, y_val))"
      ],
      "execution_count": 21,
      "outputs": [
        {
          "output_type": "stream",
          "text": [
            "Train on 8000 samples, validate on 2000 samples\n",
            "Epoch 1/15\n",
            "8000/8000 [==============================] - 7s 920us/step - loss: 0.6890 - acc: 0.7458 - val_loss: 3.0530 - val_acc: 0.2215\n",
            "Epoch 2/15\n",
            "8000/8000 [==============================] - 7s 906us/step - loss: 0.5842 - acc: 0.7835 - val_loss: 4.2613 - val_acc: 0.2275\n",
            "Epoch 3/15\n",
            "8000/8000 [==============================] - 7s 893us/step - loss: 0.5796 - acc: 0.7933 - val_loss: 1.9730 - val_acc: 0.3565\n",
            "Epoch 4/15\n",
            "8000/8000 [==============================] - 7s 897us/step - loss: 0.7257 - acc: 0.7354 - val_loss: 4.3748 - val_acc: 0.2050\n",
            "Epoch 5/15\n",
            "8000/8000 [==============================] - 7s 899us/step - loss: 0.6134 - acc: 0.7759 - val_loss: 4.6688 - val_acc: 0.2190\n",
            "Epoch 6/15\n",
            "8000/8000 [==============================] - 7s 899us/step - loss: 0.5369 - acc: 0.8085 - val_loss: 5.0802 - val_acc: 0.2060\n",
            "Epoch 7/15\n",
            "8000/8000 [==============================] - 7s 898us/step - loss: 0.4402 - acc: 0.8440 - val_loss: 1.8945 - val_acc: 0.2400\n",
            "Epoch 8/15\n",
            "8000/8000 [==============================] - 7s 888us/step - loss: 0.4797 - acc: 0.8304 - val_loss: 2.0221 - val_acc: 0.4150\n",
            "Epoch 9/15\n",
            "8000/8000 [==============================] - 7s 875us/step - loss: 0.3613 - acc: 0.8772 - val_loss: 2.8363 - val_acc: 0.3115\n",
            "Epoch 10/15\n",
            "8000/8000 [==============================] - 7s 878us/step - loss: 0.3370 - acc: 0.8779 - val_loss: 2.1794 - val_acc: 0.3855\n",
            "Epoch 11/15\n",
            "8000/8000 [==============================] - 7s 875us/step - loss: 0.3023 - acc: 0.8961 - val_loss: 7.0504 - val_acc: 0.2060\n",
            "Epoch 12/15\n",
            "8000/8000 [==============================] - 7s 878us/step - loss: 0.3458 - acc: 0.8752 - val_loss: 2.1429 - val_acc: 0.3995\n",
            "Epoch 13/15\n",
            "8000/8000 [==============================] - 7s 878us/step - loss: 0.2979 - acc: 0.8965 - val_loss: 3.5072 - val_acc: 0.3035\n",
            "Epoch 14/15\n",
            "8000/8000 [==============================] - 7s 872us/step - loss: 0.2610 - acc: 0.9086 - val_loss: 3.5999 - val_acc: 0.2950\n",
            "Epoch 15/15\n",
            "8000/8000 [==============================] - 7s 877us/step - loss: 0.2333 - acc: 0.9167 - val_loss: 2.0022 - val_acc: 0.4930\n"
          ],
          "name": "stdout"
        }
      ]
    },
    {
      "metadata": {
        "id": "-LBjo4ryw8Kl",
        "colab_type": "code",
        "colab": {}
      },
      "cell_type": "code",
      "source": [
        "plot_metrics_primary(history.history['acc'], history.history['val_acc'], history.history['loss'], history.history['val_loss'])"
      ],
      "execution_count": 0,
      "outputs": []
    },
    {
      "metadata": {
        "id": "-LtpqLAAsJYX",
        "colab_type": "text"
      },
      "cell_type": "markdown",
      "source": [
        "# Model CNN\n"
      ]
    },
    {
      "metadata": {
        "id": "6t0uMlQ6rqJO",
        "colab_type": "code",
        "colab": {}
      },
      "cell_type": "code",
      "source": [
        "model = Sequential()\n",
        "\n",
        "model.add(Conv2D(32, kernel_size=(5,5),padding='Same', activation='relu', input_shape=(HEIGHT, WIDTH, CHANNEL)))\n",
        "\n",
        "model.add(Conv2D(32, kernel_size=(5,5),padding='Same', activation='relu'))\n",
        "model.add(MaxPool2D(pool_size=(2,2)))\n",
        "model.add(Dropout(0.25))\n",
        "\n",
        "model.add(Conv2D(64, kernel_size=(3,3),padding='Same', activation='relu'))\n",
        "model.add(Conv2D(64, kernel_size=(3,3),padding='Same', activation='relu'))\n",
        "model.add(MaxPool2D(pool_size=(2,2), strides=(2,2)))\n",
        "model.add(Dropout(0.25))\n",
        "\n",
        "model.add(Flatten())\n",
        "\n",
        "model.add(Dense(50, activation='relu'))\n",
        "model.add(Dropout(0.5))\n",
        "\n",
        "model.add(Dense(N_CLASSES, activation = \"softmax\"))\n",
        "optimizer = optimizers.adam(lr=LEARNING_RATE)\n",
        "model.compile(optimizer=optimizer , loss=\"categorical_crossentropy\", metrics=[\"accuracy\"])\n",
        "# model.summary()"
      ],
      "execution_count": 0,
      "outputs": []
    },
    {
      "metadata": {
        "id": "EDr2rJLEtTgT",
        "colab_type": "code",
        "colab": {
          "base_uri": "https://localhost:8080/",
          "height": 379
        },
        "outputId": "b946bcf5-9913-466c-df23-6d1df84906ad"
      },
      "cell_type": "code",
      "source": [
        "history = model.fit(x_train, y_train, batch_size=BATCH_SIZE, epochs=EPOCHS, validation_data=(x_val, y_val))\n",
        "# history = model.fit(x_train, y_train, batch_size=BATCH_SIZE, epochs=EPOCHS)"
      ],
      "execution_count": 26,
      "outputs": [
        {
          "output_type": "stream",
          "text": [
            "Train on 8000 samples, validate on 2000 samples\n",
            "Epoch 1/10\n",
            "8000/8000 [==============================] - 3s 398us/step - loss: 1.6095 - acc: 0.2030 - val_loss: 1.6097 - val_acc: 0.1880\n",
            "Epoch 2/10\n",
            "8000/8000 [==============================] - 3s 382us/step - loss: 1.6095 - acc: 0.2030 - val_loss: 1.6096 - val_acc: 0.1880\n",
            "Epoch 3/10\n",
            "8000/8000 [==============================] - 3s 381us/step - loss: 1.6095 - acc: 0.2030 - val_loss: 1.6097 - val_acc: 0.1880\n",
            "Epoch 4/10\n",
            "8000/8000 [==============================] - 3s 382us/step - loss: 1.6095 - acc: 0.2030 - val_loss: 1.6097 - val_acc: 0.1880\n",
            "Epoch 5/10\n",
            "8000/8000 [==============================] - 3s 381us/step - loss: 1.6095 - acc: 0.2030 - val_loss: 1.6097 - val_acc: 0.1880\n",
            "Epoch 6/10\n",
            "8000/8000 [==============================] - 3s 382us/step - loss: 1.6095 - acc: 0.2030 - val_loss: 1.6098 - val_acc: 0.1880\n",
            "Epoch 7/10\n",
            "8000/8000 [==============================] - 3s 382us/step - loss: 1.6095 - acc: 0.2030 - val_loss: 1.6097 - val_acc: 0.1880\n",
            "Epoch 8/10\n",
            "8000/8000 [==============================] - 3s 384us/step - loss: 1.6095 - acc: 0.2030 - val_loss: 1.6098 - val_acc: 0.1880\n",
            "Epoch 9/10\n",
            "8000/8000 [==============================] - 3s 383us/step - loss: 1.6095 - acc: 0.2030 - val_loss: 1.6097 - val_acc: 0.1880\n",
            "Epoch 10/10\n",
            "8000/8000 [==============================] - 3s 388us/step - loss: 1.6095 - acc: 0.2030 - val_loss: 1.6097 - val_acc: 0.1880\n"
          ],
          "name": "stdout"
        }
      ]
    },
    {
      "metadata": {
        "id": "ERXh6RVjbIl9",
        "colab_type": "code",
        "colab": {}
      },
      "cell_type": "code",
      "source": [
        ""
      ],
      "execution_count": 0,
      "outputs": []
    },
    {
      "metadata": {
        "id": "d9MMli44HstG",
        "colab_type": "code",
        "colab": {}
      },
      "cell_type": "code",
      "source": [
        "# print(np.argmax(y_val, axis=1))\n",
        "# print(model.predict_classes(x_val))\n",
        "#cnf_matrix = confusion_matrix(np.argmax(y_val, axis=1), model.predict_classes(x_val))\n",
        "# print(cnf_matrix)\n",
        "#print(classes_name)\n",
        "# plot_confusion_matrix(cnf_matrix, classes_names)"
      ],
      "execution_count": 0,
      "outputs": []
    },
    {
      "metadata": {
        "id": "8x9iRsXwbTHF",
        "colab_type": "code",
        "colab": {}
      },
      "cell_type": "code",
      "source": [
        ""
      ],
      "execution_count": 0,
      "outputs": []
    },
    {
      "metadata": {
        "id": "TSNhNpJHxp-8",
        "colab_type": "text"
      },
      "cell_type": "markdown",
      "source": [
        "#Test\n"
      ]
    },
    {
      "metadata": {
        "id": "O49kbnguxinS",
        "colab_type": "code",
        "colab": {}
      },
      "cell_type": "code",
      "source": [
        "# Transform drawing into numpy arrays.\n",
        "#test['drawing_np'] = test['drawing'].apply(drawing_to_np)\n",
        "# Reshape arrays.\n",
        "#test_drawings = np.asarray([x.reshape(HEIGHT, WIDTH, CHANNEL) for x in test['drawing_np'].values])"
      ],
      "execution_count": 0,
      "outputs": []
    },
    {
      "metadata": {
        "id": "vZQ94X4YxzZb",
        "colab_type": "text"
      },
      "cell_type": "markdown",
      "source": [
        ""
      ]
    },
    {
      "metadata": {
        "id": "VlYkEwgex0GI",
        "colab_type": "code",
        "colab": {}
      },
      "cell_type": "code",
      "source": [
        "# predictions = model.predict(test_drawings)\n",
        "# top_3_predictions = np.asarray([np.argpartition(pred, -3)[-3:] for pred in predictions])\n",
        "# top_3_predictions = ['%s %s %s' % (classes_names[pred[0]], classes_names[pred[1]], classes_names[pred[2]]) for pred in top_3_predictions]\n",
        "# test['word'] = top_3_predictions"
      ],
      "execution_count": 0,
      "outputs": []
    },
    {
      "metadata": {
        "id": "leegNuPgx0oF",
        "colab_type": "code",
        "colab": {}
      },
      "cell_type": "code",
      "source": [
        "# submission = test[['key_id', 'word']]\n",
        "# submission.to_csv(SUBMISSION_NAME, index=False)\n",
        "# submission.head()"
      ],
      "execution_count": 0,
      "outputs": []
    },
    {
      "metadata": {
        "id": "tLKkCSfkevg0",
        "colab_type": "text"
      },
      "cell_type": "markdown",
      "source": [
        "# Image to Array\n"
      ]
    },
    {
      "metadata": {
        "id": "OcHPwQIhtNdR",
        "colab_type": "code",
        "colab": {}
      },
      "cell_type": "code",
      "source": [
        "# one way\n",
        "# examples = [ast.literal_eval(e) for e in data['drawing'][:15].values]\n",
        "# fig, ax = plt.subplots(1,15,figsize=(20,2))\n",
        "# for i, example in enumerate(examples[:15]):\n",
        "#     for x, y in example:\n",
        "#         ax[i].plot(x, y, marker='.', markersize=1, lw=3)\n",
        "#         ax[i].invert_yaxis()\n",
        "#         ax[i].axis('off')\n",
        "# #plt.close('all')\n",
        "#plt.gcf()\n"
      ],
      "execution_count": 0,
      "outputs": []
    },
    {
      "metadata": {
        "id": "T2RI0Q0T3ZQX",
        "colab_type": "code",
        "colab": {}
      },
      "cell_type": "code",
      "source": [
        "# second way\n",
        "# def draw_it(raw_strokes):\n",
        "#     image = Image.new(\"P\", (255,255), color=255)\n",
        "#     image_draw = ImageDraw.Draw(image)\n",
        "\n",
        "#     for stroke in eval(raw_strokes):\n",
        "#         for i in range(len(stroke[0])-1):\n",
        "\n",
        "#             image_draw.line([stroke[0][i], \n",
        "#                              stroke[1][i],\n",
        "#                              stroke[0][i+1], \n",
        "#                              stroke[1][i+1]],\n",
        "#                             fill=0, width=6)\n",
        "#             image.show()\n",
        "#     return np.array(image)\n",
        "# img = draw_it(data_mat[0])"
      ],
      "execution_count": 0,
      "outputs": []
    }
  ]
}
