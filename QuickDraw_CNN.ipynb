{
  "nbformat": 4,
  "nbformat_minor": 0,
  "metadata": {
    "colab": {
      "name": "QuickDraw_CNN.ipynb",
      "version": "0.3.2",
      "provenance": []
    },
    "kernelspec": {
      "name": "python3",
      "display_name": "Python 3"
    },
    "accelerator": "GPU"
  },
  "cells": [
    {
      "metadata": {
        "id": "fCYRpvZUnK69",
        "colab_type": "code",
        "colab": {
          "base_uri": "https://localhost:8080/",
          "height": 320
        },
        "outputId": "1205470d-23ad-4d2b-cec3-fbeff13bb3c8"
      },
      "cell_type": "code",
      "source": [
        "from keras.layers.convolutional import ZeroPadding2D\n",
        "from keras.utils import np_utils\n",
        "from keras.models import load_model\n",
        "from keras.layers import Dense, Dropout, Flatten, Conv2D, MaxPool2D, Activation, BatchNormalization\n",
        "from keras.models import Sequential\n",
        "from sklearn.model_selection import train_test_split\n",
        "from sklearn.metrics import confusion_matrix\n",
        "from keras import optimizers\n",
        "import pandas as pd\n",
        "import numpy as np\n",
        "import matplotlib.pyplot as plt\n",
        "import ast\n",
        "from PIL import Image, ImageDraw\n",
        "import cv2\n",
        "from sklearn.utils import shuffle\n",
        "%matplotlib inline\n",
        "! pip install pydrive"
      ],
      "execution_count": 3,
      "outputs": [
        {
          "output_type": "stream",
          "text": [
            "Collecting pydrive\n",
            "\u001b[?25l  Downloading https://files.pythonhosted.org/packages/52/e0/0e64788e5dd58ce2d6934549676243dc69d982f198524be9b99e9c2a4fd5/PyDrive-1.3.1.tar.gz (987kB)\n",
            "\u001b[K    100% |████████████████████████████████| 993kB 20.3MB/s \n",
            "\u001b[?25hRequirement already satisfied: google-api-python-client>=1.2 in /usr/local/lib/python3.6/dist-packages (from pydrive) (1.6.7)\n",
            "Requirement already satisfied: oauth2client>=4.0.0 in /usr/local/lib/python3.6/dist-packages (from pydrive) (4.1.3)\n",
            "Requirement already satisfied: PyYAML>=3.0 in /usr/local/lib/python3.6/dist-packages (from pydrive) (3.13)\n",
            "Requirement already satisfied: six<2dev,>=1.6.1 in /usr/local/lib/python3.6/dist-packages (from google-api-python-client>=1.2->pydrive) (1.11.0)\n",
            "Requirement already satisfied: httplib2<1dev,>=0.9.2 in /usr/local/lib/python3.6/dist-packages (from google-api-python-client>=1.2->pydrive) (0.11.3)\n",
            "Requirement already satisfied: uritemplate<4dev,>=3.0.0 in /usr/local/lib/python3.6/dist-packages (from google-api-python-client>=1.2->pydrive) (3.0.0)\n",
            "Requirement already satisfied: pyasn1-modules>=0.0.5 in /usr/local/lib/python3.6/dist-packages (from oauth2client>=4.0.0->pydrive) (0.2.2)\n",
            "Requirement already satisfied: pyasn1>=0.1.7 in /usr/local/lib/python3.6/dist-packages (from oauth2client>=4.0.0->pydrive) (0.4.4)\n",
            "Requirement already satisfied: rsa>=3.1.4 in /usr/local/lib/python3.6/dist-packages (from oauth2client>=4.0.0->pydrive) (4.0)\n",
            "Building wheels for collected packages: pydrive\n",
            "  Running setup.py bdist_wheel for pydrive ... \u001b[?25l-\b \bdone\n",
            "\u001b[?25h  Stored in directory: /root/.cache/pip/wheels/fa/d2/9a/d3b6b506c2da98289e5d417215ce34b696db856643bad779f4\n",
            "Successfully built pydrive\n",
            "Installing collected packages: pydrive\n",
            "Successfully installed pydrive-1.3.1\n"
          ],
          "name": "stdout"
        }
      ]
    },
    {
      "metadata": {
        "id": "ha8jD2Xfnx7g",
        "colab_type": "text"
      },
      "cell_type": "markdown",
      "source": [
        "# Loading Data"
      ]
    },
    {
      "metadata": {
        "id": "lDLcGJXYnhe4",
        "colab_type": "code",
        "colab": {}
      },
      "cell_type": "code",
      "source": [
        "import os\n",
        "from pydrive.auth import GoogleAuth\n",
        "from pydrive.drive import GoogleDrive\n",
        "from google.colab import auth\n",
        "from oauth2client.client import GoogleCredentials\n",
        "auth.authenticate_user()\n",
        "gauth = GoogleAuth()\n",
        "gauth.credentials = GoogleCredentials.get_application_default()\n",
        "drive = GoogleDrive(gauth)"
      ],
      "execution_count": 0,
      "outputs": []
    },
    {
      "metadata": {
        "id": "YoL7IqdznjSQ",
        "colab_type": "code",
        "colab": {}
      },
      "cell_type": "code",
      "source": [
        "# choose a local (colab) directory to store the data.\n",
        "local_download_path = os.path.expanduser('~/data')\n",
        "try:\n",
        "  os.makedirs(local_download_path)\n",
        "except: pass\n",
        "\n",
        "\n",
        "file_list = drive.ListFile(\n",
        "    {'q': \"'1GiITmsHYBfeGth-LTfnXpd6524D4-uDm' in parents\"}).GetList()\n"
      ],
      "execution_count": 0,
      "outputs": []
    },
    {
      "metadata": {
        "id": "NQsnOwq7nrEp",
        "colab_type": "code",
        "colab": {
          "base_uri": "https://localhost:8080/",
          "height": 337
        },
        "outputId": "fcd4d571-b554-466a-ff51-a3e7a73f67f9"
      },
      "cell_type": "code",
      "source": [
        "i =1\n",
        "for f in file_list:\n",
        "  i = i+1\n",
        "  # 3. Create & download by id.\n",
        "  print('title: %s, id: %s' % (f['title'], f['id']))\n",
        "  fname = os.path.join(local_download_path, f['title'])\n",
        "  # print('downloading to {}'.format(fname))\n",
        "  f_ = drive.CreateFile({'id': f['id']})\n",
        "  f_.GetContentFile(fname)\n",
        "  if i ==20:\n",
        "    break\n"
      ],
      "execution_count": 11,
      "outputs": [
        {
          "output_type": "stream",
          "text": [
            "title: bench.csv, id: 1dYztgciO88Z_kI12edZdLCtrQR9VLfbI\n",
            "title: shovel.csv, id: 1zvhytLDcfqY7uA3y_Ot5YKxBica9Dw8D\n",
            "title: screwdriver.csv, id: 1VQNK5KowUhRtujJfwW7BvO91F-waYW2i\n",
            "title: piano.csv, id: 1Guz55mbo1cDM3ZWt3u-Mlw0FGyfKKZZQ\n",
            "title: crayon.csv, id: 1Daw8Jvx7yG7JN3pa29sI_eZqzHTLaKOQ\n",
            "title: submarine.csv, id: 1C2oWsVO7L93Wsx5uGSeykzzje6gIcGKf\n",
            "title: bee.csv, id: 1KWyha2KzZG6di60nm2AnL3d67d8IFMqz\n",
            "title: octopus.csv, id: 1KMMl0cHt5cuNfd6G2bkQKFGb4RhaJfsT\n",
            "title: duck.csv, id: 1qAnS2uA-t9M53iRMfavPEdtuml6Vax_N\n",
            "title: hot dog.csv, id: 1j9fdQR3NLwhHJ5ai0h8lsAnwJKqYmROO\n",
            "title: shorts.csv, id: 1N1HKB8OmOUg0JWwwH5OzSZMpw5VHW6bq\n",
            "title: knee.csv, id: 1OE-DfWB_THcZvgyxeARYsvlZjEcc8VD_\n",
            "title: line.csv, id: 1TLU5cASyMVyCozDH2hKV9gktBNmZc23k\n",
            "title: wristwatch.csv, id: 1ZblFCaKa9kZpZy_A6i-7q1lNgxoq7uHt\n",
            "title: cannon.csv, id: 1cNwslYH5l_owQlhUbVSjB5_AHfK_Wl33\n",
            "title: purse.csv, id: 1GTtbzawBvPXEt53W_Jatj9c_Zjd4Xjss\n",
            "title: cat.csv, id: 1uuzEsCOGhgsvOxJlfAqPlJVH3gTKSPZS\n",
            "title: wheel.csv, id: 1KRiCErdmSerYg9XOKPN3Ki4OMkj9OIW3\n",
            "title: beach.csv, id: 1uVRoAqntsGHSaQA-LUKxn0wEeKi2HGyc\n"
          ],
          "name": "stdout"
        }
      ]
    },
    {
      "metadata": {
        "id": "b1Pb2y0KyqKP",
        "colab_type": "text"
      },
      "cell_type": "markdown",
      "source": [
        "#Helper Functions\n"
      ]
    },
    {
      "metadata": {
        "id": "E8vRUDO1yfQR",
        "colab_type": "code",
        "colab": {}
      },
      "cell_type": "code",
      "source": [
        "def plot_metrics_primary(acc, val_acc, loss, val_loss):\n",
        "    fig, (ax1, ax2) = plt.subplots(1, 2, sharex='col', figsize=(20,7))\n",
        "\n",
        "    ax1.plot(acc, label='Train Accuracy')\n",
        "    ax1.plot(val_acc, label='Validation accuracy')\n",
        "    ax1.legend(loc='best')\n",
        "    ax1.set_title('Accuracy')\n",
        "\n",
        "    ax2.plot(loss, label='Train loss')\n",
        "    ax2.plot(val_loss, label='Validation loss')\n",
        "    ax2.legend(loc='best')\n",
        "    ax2.set_title('Loss')\n",
        "\n",
        "    plt.xlabel('Epochs')\n",
        "   \n",
        "\n",
        "def plot_confusion_matrix(cnf_matrix, labels): \n",
        "    cnf_matrix_norm = cnf_matrix.astype('float') / cnf_matrix.sum(axis=1)[:, np.newaxis]\n",
        "    df_cm = pd.DataFrame(cnf_matrix_norm, index=labels, columns=labels)\n",
        "    plt.figure(figsize=(20,7))\n",
        "    sns.heatmap(df_cm, annot=True, fmt='.2f', cmap=\"Blues\")\n",
        "    plt.show()\n",
        "    \n",
        "# Function to plot images.\n",
        "def plot_image(image_array):\n",
        "    fig2 = plt.figure()\n",
        "    ax2 = fig2.add_subplot(111, frameon=False)\n",
        "    ax2.imshow(image_array)\n",
        "    plt.axis('off')\n",
        "    plt.show()\n",
        "\n",
        "#sample_1 = test['drawing_np'].values[0]\n",
        "#plot_image(sample_1)"
      ],
      "execution_count": 0,
      "outputs": []
    },
    {
      "metadata": {
        "id": "Q2DFcuDRfoeu",
        "colab_type": "text"
      },
      "cell_type": "markdown",
      "source": [
        "#Params\n"
      ]
    },
    {
      "metadata": {
        "id": "qRVcVDXbcNMc",
        "colab_type": "text"
      },
      "cell_type": "markdown",
      "source": [
        ""
      ]
    },
    {
      "metadata": {
        "id": "qVNI3srwfmJG",
        "colab_type": "code",
        "colab": {}
      },
      "cell_type": "code",
      "source": [
        "# Model parameters\n",
        "BATCH_SIZE = 64\n",
        "EPOCHS = 15\n",
        "LEARNING_RATE = 0.001\n",
        "HEIGHT = 28\n",
        "WIDTH = 28\n",
        "CHANNEL = 1"
      ],
      "execution_count": 0,
      "outputs": []
    },
    {
      "metadata": {
        "id": "4LMpPpQ3Y6C4",
        "colab_type": "text"
      },
      "cell_type": "markdown",
      "source": [
        "##Reading Data\n"
      ]
    },
    {
      "metadata": {
        "id": "VrouZm6Bbn4C",
        "colab_type": "code",
        "colab": {
          "base_uri": "https://localhost:8080/",
          "height": 34
        },
        "outputId": "aa1bcb5d-e1b5-4fc8-95c9-5df3e8934860"
      },
      "cell_type": "code",
      "source": [
        "TRAIN_PATH = '/root/data/'\n",
        "TEST_PATH = '../input/test_simplified.csv'\n",
        "SUBMISSION_NAME = 'submission.csv'\n",
        "n_cat = 20\n",
        "\n",
        "train = pd.DataFrame()\n",
        "for file in os.listdir(TRAIN_PATH):\n",
        "    train = train.append(pd.read_csv(TRAIN_PATH + file, usecols=[1, 5], nrows=5000))\n",
        "# Shuffle dat\n",
        "train = shuffle(train, random_state=123)\n",
        "print(len(train))\n",
        "print(list(train))"
      ],
      "execution_count": 100,
      "outputs": [
        {
          "output_type": "stream",
          "text": [
            "95000\n"
          ],
          "name": "stdout"
        }
      ]
    },
    {
      "metadata": {
        "id": "3H5T2MMLbqDX",
        "colab_type": "code",
        "colab": {
          "base_uri": "https://localhost:8080/",
          "height": 67
        },
        "outputId": "02059b22-253e-46b7-d0fe-73bfbb4cd9c2"
      },
      "cell_type": "code",
      "source": [
        "#Fixing labels.\n",
        "train['word'] = train['word'].replace(' ', '_', regex=True)\n",
        "# Get labels and one-hot encode them.\n",
        "classes_names = train['word'].unique()\n",
        "print(classes_names)\n",
        "labels = pd.get_dummies(train['word']).values\n",
        "train.drop(['word'], axis=1, inplace=True)\n",
        "N_CLASSES = len(classes_names)\n",
        "\n"
      ],
      "execution_count": 102,
      "outputs": [
        {
          "output_type": "stream",
          "text": [
            "['bee' 'cat' 'crayon' 'bench' 'shorts' 'wheel' 'hot_dog' 'wristwatch'\n",
            " 'submarine' 'octopus' 'shovel' 'beach' 'cannon' 'purse' 'duck'\n",
            " 'screwdriver' 'line' 'knee' 'piano']\n"
          ],
          "name": "stdout"
        }
      ]
    },
    {
      "metadata": {
        "id": "TBrEwsfOfuSb",
        "colab_type": "code",
        "colab": {}
      },
      "cell_type": "code",
      "source": [
        "# Transform drawing into numpy arrays\n",
        "train['drawing_np'] = train['drawing'].apply(drawing_to_np)\n",
        "# Reshape arrays\n",
        "train_drawings = np.asarray([x.reshape(HEIGHT, WIDTH, CHANNEL) for x in train['drawing_np'].values])\n",
        "print(train_drawings.shape)"
      ],
      "execution_count": 0,
      "outputs": []
    },
    {
      "metadata": {
        "id": "1j7Vv8tctlHP",
        "colab_type": "code",
        "colab": {
          "base_uri": "https://localhost:8080/",
          "height": 180
        },
        "outputId": "bc5bfd3f-994f-4f45-9387-5d1411ee11a5"
      },
      "cell_type": "code",
      "source": [
        "x_train, x_val, y_train, y_val = train_test_split(train_drawings, labels, test_size= 0.2, random_state=1)\n",
        "print(y_train.shape)"
      ],
      "execution_count": 1,
      "outputs": [
        {
          "output_type": "error",
          "ename": "NameError",
          "evalue": "ignored",
          "traceback": [
            "\u001b[0;31m---------------------------------------------------------------------------\u001b[0m",
            "\u001b[0;31mNameError\u001b[0m                                 Traceback (most recent call last)",
            "\u001b[0;32m<ipython-input-1-dc6c69e2e174>\u001b[0m in \u001b[0;36m<module>\u001b[0;34m()\u001b[0m\n\u001b[0;32m----> 1\u001b[0;31m \u001b[0mx_train\u001b[0m\u001b[0;34m,\u001b[0m \u001b[0mx_val\u001b[0m\u001b[0;34m,\u001b[0m \u001b[0my_train\u001b[0m\u001b[0;34m,\u001b[0m \u001b[0my_val\u001b[0m \u001b[0;34m=\u001b[0m \u001b[0mtrain_test_split\u001b[0m\u001b[0;34m(\u001b[0m\u001b[0mtrain_drawings\u001b[0m\u001b[0;34m,\u001b[0m \u001b[0mlabels\u001b[0m\u001b[0;34m,\u001b[0m \u001b[0mtest_size\u001b[0m\u001b[0;34m=\u001b[0m \u001b[0;36m0.2\u001b[0m\u001b[0;34m,\u001b[0m \u001b[0mrandom_state\u001b[0m\u001b[0;34m=\u001b[0m\u001b[0;36m1\u001b[0m\u001b[0;34m)\u001b[0m\u001b[0;34m\u001b[0m\u001b[0m\n\u001b[0m\u001b[1;32m      2\u001b[0m \u001b[0mprint\u001b[0m\u001b[0;34m(\u001b[0m\u001b[0my_train\u001b[0m\u001b[0;34m.\u001b[0m\u001b[0mshape\u001b[0m\u001b[0;34m)\u001b[0m\u001b[0;34m\u001b[0m\u001b[0m\n",
            "\u001b[0;31mNameError\u001b[0m: name 'train_test_split' is not defined"
          ]
        }
      ]
    },
    {
      "metadata": {
        "id": "-LtpqLAAsJYX",
        "colab_type": "text"
      },
      "cell_type": "markdown",
      "source": [
        "# Model\n"
      ]
    },
    {
      "metadata": {
        "id": "6t0uMlQ6rqJO",
        "colab_type": "code",
        "colab": {
          "base_uri": "https://localhost:8080/",
          "height": 540
        },
        "outputId": "a83ee365-e28c-4ef6-bade-4553bc392d02"
      },
      "cell_type": "code",
      "source": [
        "model = Sequential()\n",
        "\n",
        "model.add(Conv2D(32, kernel_size=(5,5),padding='Same', activation='relu', input_shape=(HEIGHT, WIDTH, CHANNEL)))\n",
        "model.add(Conv2D(32, kernel_size=(5,5),padding='Same', activation='relu'))\n",
        "model.add(MaxPool2D(pool_size=(2,2)))\n",
        "model.add(Dropout(0.25))\n",
        "\n",
        "model.add(Conv2D(64, kernel_size=(3,3),padding='Same', activation='relu'))\n",
        "model.add(Conv2D(64, kernel_size=(3,3),padding='Same', activation='relu'))\n",
        "model.add(MaxPool2D(pool_size=(2,2), strides=(2,2)))\n",
        "model.add(Dropout(0.25))\n",
        "\n",
        "model.add(Flatten())\n",
        "\n",
        "model.add(Dense(256, activation='relu'))\n",
        "model.add(Dropout(0.5))\n",
        "\n",
        "model.add(Dense(N_CLASSES, activation = \"softmax\"))\n",
        "optimizer = optimizers.adam(lr=LEARNING_RATE)\n",
        "model.compile(optimizer=optimizer , loss=\"categorical_crossentropy\", metrics=[\"accuracy\"])\n",
        "# model.summary()"
      ],
      "execution_count": 68,
      "outputs": [
        {
          "output_type": "stream",
          "text": [
            "_________________________________________________________________\n",
            "Layer (type)                 Output Shape              Param #   \n",
            "=================================================================\n",
            "conv2d_17 (Conv2D)           (None, 28, 28, 32)        832       \n",
            "_________________________________________________________________\n",
            "conv2d_18 (Conv2D)           (None, 28, 28, 32)        25632     \n",
            "_________________________________________________________________\n",
            "max_pooling2d_9 (MaxPooling2 (None, 14, 14, 32)        0         \n",
            "_________________________________________________________________\n",
            "dropout_13 (Dropout)         (None, 14, 14, 32)        0         \n",
            "_________________________________________________________________\n",
            "conv2d_19 (Conv2D)           (None, 14, 14, 64)        18496     \n",
            "_________________________________________________________________\n",
            "conv2d_20 (Conv2D)           (None, 14, 14, 64)        36928     \n",
            "_________________________________________________________________\n",
            "max_pooling2d_10 (MaxPooling (None, 7, 7, 64)          0         \n",
            "_________________________________________________________________\n",
            "dropout_14 (Dropout)         (None, 7, 7, 64)          0         \n",
            "_________________________________________________________________\n",
            "flatten_5 (Flatten)          (None, 3136)              0         \n",
            "_________________________________________________________________\n",
            "dense_8 (Dense)              (None, 256)               803072    \n",
            "_________________________________________________________________\n",
            "dropout_15 (Dropout)         (None, 256)               0         \n",
            "_________________________________________________________________\n",
            "dense_9 (Dense)              (None, 19)                4883      \n",
            "=================================================================\n",
            "Total params: 889,843\n",
            "Trainable params: 889,843\n",
            "Non-trainable params: 0\n",
            "_________________________________________________________________\n"
          ],
          "name": "stdout"
        }
      ]
    },
    {
      "metadata": {
        "id": "EDr2rJLEtTgT",
        "colab_type": "code",
        "colab": {
          "base_uri": "https://localhost:8080/",
          "height": 540
        },
        "outputId": "63fce446-7f97-4acb-98b1-6fb49cdae25d"
      },
      "cell_type": "code",
      "source": [
        "history = model.fit(x_train, y_train, batch_size=BATCH_SIZE, epochs=EPOCHS, validation_data=(x_val, y_val))\n",
        "# history = model.fit(x_train, y_train, batch_size=BATCH_SIZE, epochs=EPOCHS)"
      ],
      "execution_count": 74,
      "outputs": [
        {
          "output_type": "stream",
          "text": [
            "Train on 3762 samples, validate on 38 samples\n",
            "Epoch 1/15\n",
            "3762/3762 [==============================] - 1s 350us/step - loss: 2.9447 - acc: 0.0542 - val_loss: 2.9470 - val_acc: 0.0000e+00\n",
            "Epoch 2/15\n",
            "3762/3762 [==============================] - 1s 320us/step - loss: 2.9447 - acc: 0.0508 - val_loss: 2.9469 - val_acc: 0.0000e+00\n",
            "Epoch 3/15\n",
            "3762/3762 [==============================] - 1s 350us/step - loss: 2.9447 - acc: 0.0484 - val_loss: 2.9473 - val_acc: 0.0000e+00\n",
            "Epoch 4/15\n",
            "3762/3762 [==============================] - 1s 320us/step - loss: 2.9446 - acc: 0.0500 - val_loss: 2.9465 - val_acc: 0.0000e+00\n",
            "Epoch 5/15\n",
            "3762/3762 [==============================] - 1s 331us/step - loss: 2.9446 - acc: 0.0518 - val_loss: 2.9466 - val_acc: 0.0000e+00\n",
            "Epoch 6/15\n",
            "3762/3762 [==============================] - 1s 332us/step - loss: 2.9447 - acc: 0.0484 - val_loss: 2.9459 - val_acc: 0.0000e+00\n",
            "Epoch 7/15\n",
            "3762/3762 [==============================] - 1s 333us/step - loss: 2.9447 - acc: 0.0457 - val_loss: 2.9463 - val_acc: 0.0263\n",
            "Epoch 8/15\n",
            "3762/3762 [==============================] - 1s 334us/step - loss: 2.9447 - acc: 0.0457 - val_loss: 2.9465 - val_acc: 0.0263\n",
            "Epoch 9/15\n",
            "3762/3762 [==============================] - 1s 321us/step - loss: 2.9446 - acc: 0.0494 - val_loss: 2.9467 - val_acc: 0.0263\n",
            "Epoch 10/15\n",
            "3762/3762 [==============================] - 1s 319us/step - loss: 2.9446 - acc: 0.0502 - val_loss: 2.9466 - val_acc: 0.0263\n",
            "Epoch 11/15\n",
            "3762/3762 [==============================] - 1s 328us/step - loss: 2.9446 - acc: 0.0510 - val_loss: 2.9466 - val_acc: 0.0000e+00\n",
            "Epoch 12/15\n",
            "3762/3762 [==============================] - 1s 312us/step - loss: 2.9447 - acc: 0.0478 - val_loss: 2.9470 - val_acc: 0.0000e+00\n",
            "Epoch 13/15\n",
            "3762/3762 [==============================] - 1s 308us/step - loss: 2.9446 - acc: 0.0502 - val_loss: 2.9468 - val_acc: 0.0263\n",
            "Epoch 14/15\n",
            "3762/3762 [==============================] - 1s 314us/step - loss: 2.9446 - acc: 0.0439 - val_loss: 2.9466 - val_acc: 0.0263\n",
            "Epoch 15/15\n",
            "3762/3762 [==============================] - 1s 311us/step - loss: 2.9446 - acc: 0.0497 - val_loss: 2.9466 - val_acc: 0.0263\n"
          ],
          "name": "stdout"
        }
      ]
    },
    {
      "metadata": {
        "id": "OSJOLEgFzCy6",
        "colab_type": "code",
        "colab": {
          "base_uri": "https://localhost:8080/",
          "height": 457
        },
        "outputId": "789113dd-b516-4b0f-a99f-9cb593fc8c8a"
      },
      "cell_type": "code",
      "source": [
        "plot_metrics_primary(history.history['acc'], history.history['val_acc'], history.history['loss'], history.history['val_loss'])\n"
      ],
      "execution_count": 75,
      "outputs": [
        {
          "output_type": "display_data",
          "data": {
            "image/png": "[encoded data removed]",
            "text/plain": [
              "<matplotlib.figure.Figure at 0x7f3523237fd0>"
            ]
          },
          "metadata": {
            "tags": []
          }
        }
      ]
    },
    {
      "metadata": {
        "id": "fDuaUqjfzSec",
        "colab_type": "code",
        "colab": {
          "base_uri": "https://localhost:8080/",
          "height": 214
        },
        "outputId": "4ea70c8d-2bb3-4050-e3b4-7955e6191642"
      },
      "cell_type": "code",
      "source": [
        "# print(np.argmax(y_val, axis=1))\n",
        "# print(model.predict_classes(x_val))\n",
        "cnf_matrix = confusion_matrix(np.argmax(y_val, axis=1), model.predict_classes(x_val))\n",
        "# print(cnf_matrix)\n",
        "print(classes_name)\n",
        "# plot_confusion_matrix(cnf_matrix, classes_names)"
      ],
      "execution_count": 86,
      "outputs": [
        {
          "output_type": "error",
          "ename": "NameError",
          "evalue": "ignored",
          "traceback": [
            "\u001b[0;31m---------------------------------------------------------------------------\u001b[0m",
            "\u001b[0;31mNameError\u001b[0m                                 Traceback (most recent call last)",
            "\u001b[0;32m<ipython-input-86-8f4c000ef315>\u001b[0m in \u001b[0;36m<module>\u001b[0;34m()\u001b[0m\n\u001b[1;32m      1\u001b[0m \u001b[0mcnf_matrix\u001b[0m \u001b[0;34m=\u001b[0m \u001b[0mconfusion_matrix\u001b[0m\u001b[0;34m(\u001b[0m\u001b[0mnp\u001b[0m\u001b[0;34m.\u001b[0m\u001b[0margmax\u001b[0m\u001b[0;34m(\u001b[0m\u001b[0my_val\u001b[0m\u001b[0;34m,\u001b[0m \u001b[0maxis\u001b[0m\u001b[0;34m=\u001b[0m\u001b[0;36m1\u001b[0m\u001b[0;34m)\u001b[0m\u001b[0;34m,\u001b[0m \u001b[0mmodel\u001b[0m\u001b[0;34m.\u001b[0m\u001b[0mpredict_classes\u001b[0m\u001b[0;34m(\u001b[0m\u001b[0mx_val\u001b[0m\u001b[0;34m)\u001b[0m\u001b[0;34m)\u001b[0m\u001b[0;34m\u001b[0m\u001b[0m\n\u001b[1;32m      2\u001b[0m \u001b[0;31m# print(cnf_matrix)\u001b[0m\u001b[0;34m\u001b[0m\u001b[0;34m\u001b[0m\u001b[0m\n\u001b[0;32m----> 3\u001b[0;31m \u001b[0mprint\u001b[0m\u001b[0;34m(\u001b[0m\u001b[0mclasses_name\u001b[0m\u001b[0;34m)\u001b[0m\u001b[0;34m\u001b[0m\u001b[0m\n\u001b[0m\u001b[1;32m      4\u001b[0m \u001b[0;31m# plot_confusion_matrix(cnf_matrix, classes_names)\u001b[0m\u001b[0;34m\u001b[0m\u001b[0;34m\u001b[0m\u001b[0m\n",
            "\u001b[0;31mNameError\u001b[0m: name 'classes_name' is not defined"
          ]
        }
      ]
    },
    {
      "metadata": {
        "id": "TSNhNpJHxp-8",
        "colab_type": "text"
      },
      "cell_type": "markdown",
      "source": [
        "#Test\n"
      ]
    },
    {
      "metadata": {
        "id": "O49kbnguxinS",
        "colab_type": "code",
        "colab": {}
      },
      "cell_type": "code",
      "source": [
        "# Transform drawing into numpy arrays.\n",
        "test['drawing_np'] = test['drawing'].apply(drawing_to_np)\n",
        "# Reshape arrays.\n",
        "test_drawings = np.asarray([x.reshape(HEIGHT, WIDTH, CHANNEL) for x in test['drawing_np'].values])"
      ],
      "execution_count": 0,
      "outputs": []
    },
    {
      "metadata": {
        "id": "vZQ94X4YxzZb",
        "colab_type": "text"
      },
      "cell_type": "markdown",
      "source": [
        ""
      ]
    },
    {
      "metadata": {
        "id": "VlYkEwgex0GI",
        "colab_type": "code",
        "colab": {}
      },
      "cell_type": "code",
      "source": [
        "predictions = model.predict(test_drawings)\n",
        "top_3_predictions = np.asarray([np.argpartition(pred, -3)[-3:] for pred in predictions])\n",
        "top_3_predictions = ['%s %s %s' % (classes_names[pred[0]], classes_names[pred[1]], classes_names[pred[2]]) for pred in top_3_predictions]\n",
        "test['word'] = top_3_predictions"
      ],
      "execution_count": 0,
      "outputs": []
    },
    {
      "metadata": {
        "id": "leegNuPgx0oF",
        "colab_type": "code",
        "colab": {}
      },
      "cell_type": "code",
      "source": [
        "submission = test[['key_id', 'word']]\n",
        "submission.to_csv(SUBMISSION_NAME, index=False)\n",
        "submission.head()"
      ],
      "execution_count": 0,
      "outputs": []
    },
    {
      "metadata": {
        "id": "tLKkCSfkevg0",
        "colab_type": "text"
      },
      "cell_type": "markdown",
      "source": [
        "# Image to Array\n"
      ]
    },
    {
      "metadata": {
        "id": "OcHPwQIhtNdR",
        "colab_type": "code",
        "colab": {
          "base_uri": "https://localhost:8080/",
          "height": 232
        },
        "outputId": "8284980b-c249-474b-e769-0c9307560b63"
      },
      "cell_type": "code",
      "source": [
        "# one way\n",
        "examples = [ast.literal_eval(e) for e in data['drawing'][:15].values]\n",
        "fig, ax = plt.subplots(1,15,figsize=(20,2))\n",
        "for i, example in enumerate(examples[:15]):\n",
        "    for x, y in example:\n",
        "        ax[i].plot(x, y, marker='.', markersize=1, lw=3)\n",
        "        ax[i].invert_yaxis()\n",
        "        ax[i].axis('off')\n",
        "#plt.close('all')\n",
        "#plt.gcf()\n"
      ],
      "execution_count": 1,
      "outputs": [
        {
          "output_type": "error",
          "ename": "NameError",
          "evalue": "ignored",
          "traceback": [
            "\u001b[0;31m---------------------------------------------------------------------------\u001b[0m",
            "\u001b[0;31mNameError\u001b[0m                                 Traceback (most recent call last)",
            "\u001b[0;32m<ipython-input-1-2ae07d7ca2c5>\u001b[0m in \u001b[0;36m<module>\u001b[0;34m()\u001b[0m\n\u001b[0;32m----> 1\u001b[0;31m \u001b[0mexamples\u001b[0m \u001b[0;34m=\u001b[0m \u001b[0;34m[\u001b[0m\u001b[0mast\u001b[0m\u001b[0;34m.\u001b[0m\u001b[0mliteral_eval\u001b[0m\u001b[0;34m(\u001b[0m\u001b[0me\u001b[0m\u001b[0;34m)\u001b[0m \u001b[0;32mfor\u001b[0m \u001b[0me\u001b[0m \u001b[0;32min\u001b[0m \u001b[0mdata\u001b[0m\u001b[0;34m[\u001b[0m\u001b[0;34m'drawing'\u001b[0m\u001b[0;34m]\u001b[0m\u001b[0;34m[\u001b[0m\u001b[0;34m:\u001b[0m\u001b[0;36m15\u001b[0m\u001b[0;34m]\u001b[0m\u001b[0;34m.\u001b[0m\u001b[0mvalues\u001b[0m\u001b[0;34m]\u001b[0m\u001b[0;34m\u001b[0m\u001b[0m\n\u001b[0m\u001b[1;32m      2\u001b[0m \u001b[0mfig\u001b[0m\u001b[0;34m,\u001b[0m \u001b[0max\u001b[0m \u001b[0;34m=\u001b[0m \u001b[0mplt\u001b[0m\u001b[0;34m.\u001b[0m\u001b[0msubplots\u001b[0m\u001b[0;34m(\u001b[0m\u001b[0;36m1\u001b[0m\u001b[0;34m,\u001b[0m\u001b[0;36m15\u001b[0m\u001b[0;34m,\u001b[0m\u001b[0mfigsize\u001b[0m\u001b[0;34m=\u001b[0m\u001b[0;34m(\u001b[0m\u001b[0;36m20\u001b[0m\u001b[0;34m,\u001b[0m\u001b[0;36m2\u001b[0m\u001b[0;34m)\u001b[0m\u001b[0;34m)\u001b[0m\u001b[0;34m\u001b[0m\u001b[0m\n\u001b[1;32m      3\u001b[0m \u001b[0;32mfor\u001b[0m \u001b[0mi\u001b[0m\u001b[0;34m,\u001b[0m \u001b[0mexample\u001b[0m \u001b[0;32min\u001b[0m \u001b[0menumerate\u001b[0m\u001b[0;34m(\u001b[0m\u001b[0mexamples\u001b[0m\u001b[0;34m[\u001b[0m\u001b[0;34m:\u001b[0m\u001b[0;36m15\u001b[0m\u001b[0;34m]\u001b[0m\u001b[0;34m)\u001b[0m\u001b[0;34m:\u001b[0m\u001b[0;34m\u001b[0m\u001b[0m\n\u001b[1;32m      4\u001b[0m     \u001b[0;32mfor\u001b[0m \u001b[0mx\u001b[0m\u001b[0;34m,\u001b[0m \u001b[0my\u001b[0m \u001b[0;32min\u001b[0m \u001b[0mexample\u001b[0m\u001b[0;34m:\u001b[0m\u001b[0;34m\u001b[0m\u001b[0m\n\u001b[1;32m      5\u001b[0m         \u001b[0max\u001b[0m\u001b[0;34m[\u001b[0m\u001b[0mi\u001b[0m\u001b[0;34m]\u001b[0m\u001b[0;34m.\u001b[0m\u001b[0mplot\u001b[0m\u001b[0;34m(\u001b[0m\u001b[0mx\u001b[0m\u001b[0;34m,\u001b[0m \u001b[0my\u001b[0m\u001b[0;34m,\u001b[0m \u001b[0mmarker\u001b[0m\u001b[0;34m=\u001b[0m\u001b[0;34m'.'\u001b[0m\u001b[0;34m,\u001b[0m \u001b[0mmarkersize\u001b[0m\u001b[0;34m=\u001b[0m\u001b[0;36m1\u001b[0m\u001b[0;34m,\u001b[0m \u001b[0mlw\u001b[0m\u001b[0;34m=\u001b[0m\u001b[0;36m3\u001b[0m\u001b[0;34m)\u001b[0m\u001b[0;34m\u001b[0m\u001b[0m\n",
            "\u001b[0;31mNameError\u001b[0m: name 'data' is not defined"
          ]
        }
      ]
    },
    {
      "metadata": {
        "id": "T2RI0Q0T3ZQX",
        "colab_type": "code",
        "colab": {}
      },
      "cell_type": "code",
      "source": [
        "# second way\n",
        "def draw_it(raw_strokes):\n",
        "    image = Image.new(\"P\", (255,255), color=255)\n",
        "    image_draw = ImageDraw.Draw(image)\n",
        "\n",
        "    for stroke in eval(raw_strokes):\n",
        "        for i in range(len(stroke[0])-1):\n",
        "\n",
        "            image_draw.line([stroke[0][i], \n",
        "                             stroke[1][i],\n",
        "                             stroke[0][i+1], \n",
        "                             stroke[1][i+1]],\n",
        "                            fill=0, width=6)\n",
        "            image.show()\n",
        "    return np.array(image)\n",
        "img = draw_it(data_mat[0])"
      ],
      "execution_count": 0,
      "outputs": []
    },
    {
      "metadata": {
        "id": "eUu4udAVtI2O",
        "colab_type": "code",
        "colab": {}
      },
      "cell_type": "code",
      "source": [
        "# third way\n",
        "def drawing_to_np(drawing, shape=(28, 28)):\n",
        "    # evaluates the drawing array\n",
        "    drawing = eval(drawing)\n",
        "    fig, ax = plt.subplots()\n",
        "    for x,y in drawing:\n",
        "        ax.plot(x, y, marker='.')\n",
        "        ax.axis('off')        \n",
        "    fig.canvas.draw()\n",
        "    # Close figure so it won't get displayed while transforming the set\n",
        "    plt.close(fig)\n",
        "    # Convert images to numpy array\n",
        "    np_drawing = np.array(fig.canvas.renderer._renderer)\n",
        "    # Take only one channel\n",
        "    np_drawing =np_drawing[:, :, 1]    \n",
        "    # Normalize data\n",
        "    np_drawing = np_drawing / 255.\n",
        "    return cv2.resize(np_drawing, shape) # Resize array\n"
      ],
      "execution_count": 0,
      "outputs": []
    }
  ]
}