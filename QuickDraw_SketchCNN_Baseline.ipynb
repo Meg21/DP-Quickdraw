{
  "nbformat": 4,
  "nbformat_minor": 0,
  "metadata": {
    "colab": {
      "name": "QuickDraw_SketchCNN_Final.ipynb",
      "version": "0.3.2",
      "provenance": [],
      "collapsed_sections": []
    },
    "kernelspec": {
      "name": "python3",
      "display_name": "Python 3"
    },
    "accelerator": "GPU"
  },
  "cells": [
    {
      "metadata": {
        "id": "fCYRpvZUnK69",
        "colab_type": "code",
        "colab": {}
      },
      "cell_type": "code",
      "source": [
        "from keras.layers.convolutional import ZeroPadding2D\n",
        "from keras.utils import np_utils\n",
        "from keras.models import load_model\n",
        "from keras.layers import Dense, Dropout, Flatten, Conv2D, MaxPool2D, Activation, BatchNormalization\n",
        "from keras.models import Sequential\n",
        "from sklearn.model_selection import train_test_split\n",
        "from sklearn.metrics import confusion_matrix\n",
        "from keras import optimizers\n",
        "import pandas as pd\n",
        "import numpy as np\n",
        "import matplotlib.pyplot as plt\n",
        "import ast\n",
        "from PIL import Image, ImageDraw\n",
        "import cv2\n",
        "from sklearn.utils import shuffle\n",
        "from tensorflow.keras.applications import MobileNet\n",
        "%matplotlib inline\n",
        "from tensorflow.keras.optimizers import Adam\n",
        "#! pip install pydrive"
      ],
      "execution_count": 0,
      "outputs": []
    },
    {
      "metadata": {
        "id": "ha8jD2Xfnx7g",
        "colab_type": "text"
      },
      "cell_type": "markdown",
      "source": [
        "# Loading Data"
      ]
    },
    {
      "metadata": {
        "id": "lDLcGJXYnhe4",
        "colab_type": "code",
        "colab": {}
      },
      "cell_type": "code",
      "source": [
        "import os\n",
        "from pydrive.auth import GoogleAuth\n",
        "from pydrive.drive import GoogleDrive\n",
        "from google.colab import auth\n",
        "from oauth2client.client import GoogleCredentials\n",
        "auth.authenticate_user()\n",
        "gauth = GoogleAuth()\n",
        "gauth.credentials = GoogleCredentials.get_application_default()\n",
        "drive = GoogleDrive(gauth)"
      ],
      "execution_count": 0,
      "outputs": []
    },
    {
      "metadata": {
        "id": "YoL7IqdznjSQ",
        "colab_type": "code",
        "colab": {}
      },
      "cell_type": "code",
      "source": [
        "# choose a local (colab) directory to store the data.\n",
        "local_download_path = os.path.expanduser('~/data')\n",
        "try:\n",
        "  os.makedirs(local_download_path)\n",
        "except: pass\n",
        "\n",
        "\n",
        "file_list = drive.ListFile(\n",
        "    {'q': \"'1GiITmsHYBfeGth-LTfnXpd6524D4-uDm' in parents\"}).GetList()\n"
      ],
      "execution_count": 0,
      "outputs": []
    },
    {
      "metadata": {
        "id": "NQsnOwq7nrEp",
        "colab_type": "code",
        "outputId": "924b7077-80e5-409b-d985-b43c8bb2b510",
        "colab": {
          "base_uri": "https://localhost:8080/",
          "height": 103
        }
      },
      "cell_type": "code",
      "source": [
        "# Testing for 5 classes\n",
        "i =1\n",
        "for f in file_list:\n",
        "  i = i+1\n",
        "  # 3. Create & download by id.\n",
        "  print('title: %s, id: %s' % (f['title'], f['id']))\n",
        "  fname = os.path.join(local_download_path, f['title'])\n",
        "  # print('downloading to {}'.format(fname))\n",
        "  f_ = drive.CreateFile({'id': f['id']})\n",
        "  f_.GetContentFile(fname)\n",
        "  if i == 6:\n",
        "    break\n"
      ],
      "execution_count": 26,
      "outputs": [
        {
          "output_type": "stream",
          "text": [
            "title: bench.csv, id: 1dYztgciO88Z_kI12edZdLCtrQR9VLfbI\n",
            "title: shovel.csv, id: 1zvhytLDcfqY7uA3y_Ot5YKxBica9Dw8D\n",
            "title: screwdriver.csv, id: 1VQNK5KowUhRtujJfwW7BvO91F-waYW2i\n",
            "title: piano.csv, id: 1Guz55mbo1cDM3ZWt3u-Mlw0FGyfKKZZQ\n",
            "title: crayon.csv, id: 1Daw8Jvx7yG7JN3pa29sI_eZqzHTLaKOQ\n"
          ],
          "name": "stdout"
        }
      ]
    },
    {
      "metadata": {
        "id": "b1Pb2y0KyqKP",
        "colab_type": "text"
      },
      "cell_type": "markdown",
      "source": [
        "#Helper Functions\n"
      ]
    },
    {
      "metadata": {
        "id": "E8vRUDO1yfQR",
        "colab_type": "code",
        "colab": {}
      },
      "cell_type": "code",
      "source": [
        "def plot_metrics_primary(acc, val_acc, loss, val_loss):\n",
        "    fig, (ax1, ax2) = plt.subplots(1, 2, sharex='col', figsize=(20,7))\n",
        "\n",
        "    ax1.plot(acc, label='Train Accuracy')\n",
        "    ax1.plot(val_acc, label='Validation accuracy')\n",
        "    ax1.legend(loc='best')\n",
        "    ax1.set_title('Accuracy')\n",
        "\n",
        "    ax2.plot(loss, label='Train loss')\n",
        "    ax2.plot(val_loss, label='Validation loss')\n",
        "    ax2.legend(loc='best')\n",
        "    ax2.set_title('Loss')\n",
        "\n",
        "    plt.xlabel('Epochs')\n",
        "   \n",
        "\n",
        "def plot_confusion_matrix(cnf_matrix, labels): \n",
        "    cnf_matrix_norm = cnf_matrix.astype('float') / cnf_matrix.sum(axis=1)[:, np.newaxis]\n",
        "    df_cm = pd.DataFrame(cnf_matrix_norm, index=labels, columns=labels)\n",
        "    plt.figure(figsize=(20,7))\n",
        "    sns.heatmap(df_cm, annot=True, fmt='.2f', cmap=\"Blues\")\n",
        "    plt.show()\n",
        "    \n",
        "# Function to plot images.\n",
        "def plot_image(image_array):\n",
        "    fig2 = plt.figure()\n",
        "    ax2 = fig2.add_subplot(111, frameon=False)\n",
        "    ax2.imshow(image_array)\n",
        "    plt.axis('off')\n",
        "    plt.show()\n",
        "\n",
        "#sample_1 = test['drawing_np'].values[0]\n",
        "#plot_image(sample_1)"
      ],
      "execution_count": 0,
      "outputs": []
    },
    {
      "metadata": {
        "id": "Q2DFcuDRfoeu",
        "colab_type": "text"
      },
      "cell_type": "markdown",
      "source": [
        "#Params\n"
      ]
    },
    {
      "metadata": {
        "id": "qRVcVDXbcNMc",
        "colab_type": "text"
      },
      "cell_type": "markdown",
      "source": [
        ""
      ]
    },
    {
      "metadata": {
        "id": "qVNI3srwfmJG",
        "colab_type": "code",
        "colab": {}
      },
      "cell_type": "code",
      "source": [
        "# Model parameters\n",
        "BATCH_SIZE = 64\n",
        "EPOCHS = 15\n",
        "LEARNING_RATE = 0.001\n",
        "HEIGHT = 32\n",
        "WIDTH = 32\n",
        "CHANNEL = 1\n",
        "N_CLASSES = 5"
      ],
      "execution_count": 0,
      "outputs": []
    },
    {
      "metadata": {
        "id": "4LMpPpQ3Y6C4",
        "colab_type": "text"
      },
      "cell_type": "markdown",
      "source": [
        "##Reading Data\n"
      ]
    },
    {
      "metadata": {
        "id": "VrouZm6Bbn4C",
        "colab_type": "code",
        "outputId": "3b05b4d2-27f3-4072-fcda-cc26b58a5e2a",
        "colab": {
          "base_uri": "https://localhost:8080/",
          "height": 51
        }
      },
      "cell_type": "code",
      "source": [
        "TRAIN_PATH = '/root/data/'\n",
        "TEST_PATH = '../input/test_simplified.csv'\n",
        "SUBMISSION_NAME = 'submission.csv'\n",
        "n_cat = 5\n",
        "\n",
        "train = pd.DataFrame()\n",
        "for file in os.listdir(TRAIN_PATH):\n",
        "    train = train.append(pd.read_csv(TRAIN_PATH + file, usecols=[1, 5], nrows = 2000))\n",
        "# Shuffle dat\n",
        "train = shuffle(train, random_state=123)\n",
        "print(len(train))\n",
        "print(list(train))"
      ],
      "execution_count": 29,
      "outputs": [
        {
          "output_type": "stream",
          "text": [
            "10000\n",
            "['drawing', 'word']\n"
          ],
          "name": "stdout"
        }
      ]
    },
    {
      "metadata": {
        "id": "3H5T2MMLbqDX",
        "colab_type": "code",
        "outputId": "621d2654-8921-48b1-fa80-91d2212e188e",
        "colab": {
          "base_uri": "https://localhost:8080/",
          "height": 34
        }
      },
      "cell_type": "code",
      "source": [
        "#Fixing labels.\n",
        "train['word'] = train['word'].replace(' ', '_', regex=True)\n",
        "# Get labels and one-hot encode them.\n",
        "classes_names = train['word'].unique()\n",
        "print(classes_names)\n",
        "labels = pd.get_dummies(train['word']).values\n",
        "train.drop(['word'], axis=1, inplace=True)\n",
        "N_CLASSES = len(classes_names)"
      ],
      "execution_count": 30,
      "outputs": [
        {
          "output_type": "stream",
          "text": [
            "['shovel' 'crayon' 'piano' 'bench' 'screwdriver']\n"
          ],
          "name": "stdout"
        }
      ]
    },
    {
      "metadata": {
        "id": "eUu4udAVtI2O",
        "colab_type": "code",
        "colab": {}
      },
      "cell_type": "code",
      "source": [
        "# third work\n",
        "def drawing_to_np(drawing, shape=(32, 32)):\n",
        "    # evaluates the drawing array\n",
        "    drawing = eval(drawing)\n",
        "    fig, ax = plt.subplots()\n",
        "    for x,y in drawing:\n",
        "        ax.plot(x, y, marker='.')\n",
        "        ax.axis('off')        \n",
        "    fig.canvas.draw()\n",
        "    # Close figure so it won't get displayed while transforming the set\n",
        "    plt.close(fig)\n",
        "    # Convert images to numpy array\n",
        "    np_drawing = np.array(fig.canvas.renderer._renderer)\n",
        "    # Take only one channel\n",
        "    np_drawing =np_drawing[:, :, 1]    \n",
        "    # Normalize data\n",
        "    np_drawing = np_drawing / 255.\n",
        "    return cv2.resize(np_drawing, shape) # Resize array\n"
      ],
      "execution_count": 0,
      "outputs": []
    },
    {
      "metadata": {
        "id": "TBrEwsfOfuSb",
        "colab_type": "code",
        "colab": {}
      },
      "cell_type": "code",
      "source": [
        "# Transform drawing into numpy arrays\n",
        "train['drawing'] = train['drawing'].apply(drawing_to_np)"
      ],
      "execution_count": 0,
      "outputs": []
    },
    {
      "metadata": {
        "id": "zJgSaXSAz3Fc",
        "colab_type": "code",
        "outputId": "2ad365cc-3480-4650-eb15-7cffe54bc660",
        "colab": {
          "base_uri": "https://localhost:8080/",
          "height": 34
        }
      },
      "cell_type": "code",
      "source": [
        "print(train['drawing'].shape)"
      ],
      "execution_count": 35,
      "outputs": [
        {
          "output_type": "stream",
          "text": [
            "(10000,)\n"
          ],
          "name": "stdout"
        }
      ]
    },
    {
      "metadata": {
        "id": "uVhawaCpNJji",
        "colab_type": "code",
        "outputId": "6fd1122e-9fa2-44f8-a488-2a433b029c72",
        "colab": {
          "base_uri": "https://localhost:8080/",
          "height": 34
        }
      },
      "cell_type": "code",
      "source": [
        "# Reshape arrays\n",
        "train_drawings = np.asarray([x.reshape(HEIGHT, WIDTH, CHANNEL) for x in train['drawing'].values])\n",
        "print(train_drawings.shape)"
      ],
      "execution_count": 36,
      "outputs": [
        {
          "output_type": "stream",
          "text": [
            "(10000, 32, 32, 1)\n"
          ],
          "name": "stdout"
        }
      ]
    },
    {
      "metadata": {
        "id": "1j7Vv8tctlHP",
        "colab_type": "code",
        "outputId": "626ccc61-1288-40f4-a605-5156dd01d2c0",
        "colab": {
          "base_uri": "https://localhost:8080/",
          "height": 34
        }
      },
      "cell_type": "code",
      "source": [
        "x_train, x_val, y_train, y_val = train_test_split(train_drawings, labels, test_size= 0.2, random_state=1)\n",
        "print(y_train.shape)"
      ],
      "execution_count": 37,
      "outputs": [
        {
          "output_type": "stream",
          "text": [
            "(8000, 5)\n"
          ],
          "name": "stdout"
        }
      ]
    },
    {
      "metadata": {
        "id": "-LtpqLAAsJYX",
        "colab_type": "text"
      },
      "cell_type": "markdown",
      "source": [
        "#SketchCNN\n"
      ]
    },
    {
      "metadata": {
        "id": "6t0uMlQ6rqJO",
        "colab_type": "code",
        "colab": {
          "base_uri": "https://localhost:8080/",
          "height": 413
        },
        "outputId": "c10cfcea-c211-434a-e68c-72fcab67ef2d"
      },
      "cell_type": "code",
      "source": [
        "model = Sequential()\n",
        "\n",
        "model.add(Conv2D(64, kernel_size=(7,7), activation='relu', input_shape=(HEIGHT, WIDTH, CHANNEL)))\n",
        "model.add(MaxPool2D(pool_size=(2,2)))\n",
        "model.add(Conv2D(128, kernel_size=(5,5), activation='relu'))\n",
        "model.add(MaxPool2D(pool_size=(2,2)))\n",
        "model.add(Conv2D(256, kernel_size=(3,3), activation='relu'))\n",
        "model.add(MaxPool2D(pool_size=(2,2)))\n",
        "model.add(Conv2D(5, kernel_size=(1,1), activation='softmax'))\n",
        "model.add(Flatten())\n",
        "optimizer = optimizers.adam(lr=LEARNING_RATE)\n",
        "model.compile(optimizer=optimizer , loss=\"categorical_crossentropy\", metrics=[\"accuracy\"])\n",
        "model.summary()"
      ],
      "execution_count": 38,
      "outputs": [
        {
          "output_type": "stream",
          "text": [
            "_________________________________________________________________\n",
            "Layer (type)                 Output Shape              Param #   \n",
            "=================================================================\n",
            "conv2d_50 (Conv2D)           (None, 26, 26, 64)        3200      \n",
            "_________________________________________________________________\n",
            "max_pooling2d_43 (MaxPooling (None, 13, 13, 64)        0         \n",
            "_________________________________________________________________\n",
            "conv2d_51 (Conv2D)           (None, 9, 9, 128)         204928    \n",
            "_________________________________________________________________\n",
            "max_pooling2d_44 (MaxPooling (None, 4, 4, 128)         0         \n",
            "_________________________________________________________________\n",
            "conv2d_52 (Conv2D)           (None, 2, 2, 256)         295168    \n",
            "_________________________________________________________________\n",
            "max_pooling2d_45 (MaxPooling (None, 1, 1, 256)         0         \n",
            "_________________________________________________________________\n",
            "conv2d_53 (Conv2D)           (None, 1, 1, 5)           1285      \n",
            "_________________________________________________________________\n",
            "flatten_15 (Flatten)         (None, 5)                 0         \n",
            "=================================================================\n",
            "Total params: 504,581\n",
            "Trainable params: 504,581\n",
            "Non-trainable params: 0\n",
            "_________________________________________________________________\n"
          ],
          "name": "stdout"
        }
      ]
    },
    {
      "metadata": {
        "id": "EDr2rJLEtTgT",
        "colab_type": "code",
        "outputId": "63fcdc62-e22d-4f8c-dace-37807f055788",
        "colab": {
          "base_uri": "https://localhost:8080/",
          "height": 551
        }
      },
      "cell_type": "code",
      "source": [
        "history = model.fit(x_train, y_train, batch_size=BATCH_SIZE, epochs=EPOCHS, validation_data=(x_val, y_val))\n",
        "# history = model.fit(x_train, y_train, batch_size=BATCH_SIZE, epochs=EPOCHS)"
      ],
      "execution_count": 39,
      "outputs": [
        {
          "output_type": "stream",
          "text": [
            "Train on 8000 samples, validate on 2000 samples\n",
            "Epoch 1/15\n",
            "8000/8000 [==============================] - 6s 809us/step - loss: 1.6102 - acc: 0.2050 - val_loss: 1.6097 - val_acc: 0.1995\n",
            "Epoch 2/15\n",
            "8000/8000 [==============================] - 2s 244us/step - loss: 1.6097 - acc: 0.1990 - val_loss: 1.6097 - val_acc: 0.1880\n",
            "Epoch 3/15\n",
            "8000/8000 [==============================] - 2s 240us/step - loss: 1.6096 - acc: 0.2010 - val_loss: 1.6097 - val_acc: 0.1880\n",
            "Epoch 4/15\n",
            "8000/8000 [==============================] - 2s 241us/step - loss: 1.6096 - acc: 0.1958 - val_loss: 1.6097 - val_acc: 0.1880\n",
            "Epoch 5/15\n",
            "8000/8000 [==============================] - 2s 240us/step - loss: 1.6098 - acc: 0.2001 - val_loss: 1.6097 - val_acc: 0.1880\n",
            "Epoch 6/15\n",
            "8000/8000 [==============================] - 2s 241us/step - loss: 1.6096 - acc: 0.2004 - val_loss: 1.6098 - val_acc: 0.1880\n",
            "Epoch 7/15\n",
            "8000/8000 [==============================] - 2s 241us/step - loss: 1.6096 - acc: 0.2030 - val_loss: 1.6097 - val_acc: 0.1880\n",
            "Epoch 8/15\n",
            "8000/8000 [==============================] - 2s 241us/step - loss: 1.6096 - acc: 0.2030 - val_loss: 1.6097 - val_acc: 0.1880\n",
            "Epoch 9/15\n",
            "8000/8000 [==============================] - 2s 238us/step - loss: 1.6096 - acc: 0.1979 - val_loss: 1.6098 - val_acc: 0.1880\n",
            "Epoch 10/15\n",
            "8000/8000 [==============================] - 2s 243us/step - loss: 1.6095 - acc: 0.2030 - val_loss: 1.6098 - val_acc: 0.1880\n",
            "Epoch 11/15\n",
            "8000/8000 [==============================] - 2s 244us/step - loss: 1.6095 - acc: 0.1977 - val_loss: 1.6097 - val_acc: 0.1880\n",
            "Epoch 12/15\n",
            "8000/8000 [==============================] - 2s 241us/step - loss: 1.6097 - acc: 0.2033 - val_loss: 1.6097 - val_acc: 0.1880\n",
            "Epoch 13/15\n",
            "8000/8000 [==============================] - 2s 242us/step - loss: 1.6095 - acc: 0.2030 - val_loss: 1.6097 - val_acc: 0.1880\n",
            "Epoch 14/15\n",
            "8000/8000 [==============================] - 2s 244us/step - loss: 1.6095 - acc: 0.2030 - val_loss: 1.6098 - val_acc: 0.1880\n",
            "Epoch 15/15\n",
            "8000/8000 [==============================] - 2s 240us/step - loss: 1.6095 - acc: 0.2030 - val_loss: 1.6097 - val_acc: 0.1880\n"
          ],
          "name": "stdout"
        }
      ]
    },
    {
      "metadata": {
        "id": "d9MMli44HstG",
        "colab_type": "code",
        "colab": {}
      },
      "cell_type": "code",
      "source": [
        "# print(np.argmax(y_val, axis=1))\n",
        "# print(model.predict_classes(x_val))\n",
        "#cnf_matrix = confusion_matrix(np.argmax(y_val, axis=1), model.predict_classes(x_val))\n",
        "# print(cnf_matrix)\n",
        "#print(classes_name)\n",
        "# plot_confusion_matrix(cnf_matrix, classes_names)"
      ],
      "execution_count": 0,
      "outputs": []
    },
    {
      "metadata": {
        "id": "TSNhNpJHxp-8",
        "colab_type": "text"
      },
      "cell_type": "markdown",
      "source": [
        "#Test\n"
      ]
    },
    {
      "metadata": {
        "id": "O49kbnguxinS",
        "colab_type": "code",
        "colab": {}
      },
      "cell_type": "code",
      "source": [
        "# Transform drawing into numpy arrays.\n",
        "#test['drawing_np'] = test['drawing'].apply(drawing_to_np)\n",
        "# Reshape arrays.\n",
        "#test_drawings = np.asarray([x.reshape(HEIGHT, WIDTH, CHANNEL) for x in test['drawing_np'].values])"
      ],
      "execution_count": 0,
      "outputs": []
    },
    {
      "metadata": {
        "id": "vZQ94X4YxzZb",
        "colab_type": "text"
      },
      "cell_type": "markdown",
      "source": [
        ""
      ]
    },
    {
      "metadata": {
        "id": "VlYkEwgex0GI",
        "colab_type": "code",
        "colab": {}
      },
      "cell_type": "code",
      "source": [
        "# predictions = model.predict(test_drawings)\n",
        "# top_3_predictions = np.asarray([np.argpartition(pred, -3)[-3:] for pred in predictions])\n",
        "# top_3_predictions = ['%s %s %s' % (classes_names[pred[0]], classes_names[pred[1]], classes_names[pred[2]]) for pred in top_3_predictions]\n",
        "# test['word'] = top_3_predictions"
      ],
      "execution_count": 0,
      "outputs": []
    },
    {
      "metadata": {
        "id": "leegNuPgx0oF",
        "colab_type": "code",
        "colab": {}
      },
      "cell_type": "code",
      "source": [
        "# submission = test[['key_id', 'word']]\n",
        "# submission.to_csv(SUBMISSION_NAME, index=False)\n",
        "# submission.head()"
      ],
      "execution_count": 0,
      "outputs": []
    },
    {
      "metadata": {
        "id": "tLKkCSfkevg0",
        "colab_type": "text"
      },
      "cell_type": "markdown",
      "source": [
        "# Image to Array\n"
      ]
    },
    {
      "metadata": {
        "id": "OcHPwQIhtNdR",
        "colab_type": "code",
        "colab": {}
      },
      "cell_type": "code",
      "source": [
        "# one way\n",
        "# examples = [ast.literal_eval(e) for e in data['drawing'][:15].values]\n",
        "# fig, ax = plt.subplots(1,15,figsize=(20,2))\n",
        "# for i, example in enumerate(examples[:15]):\n",
        "#     for x, y in example:\n",
        "#         ax[i].plot(x, y, marker='.', markersize=1, lw=3)\n",
        "#         ax[i].invert_yaxis()\n",
        "#         ax[i].axis('off')\n",
        "# #plt.close('all')\n",
        "#plt.gcf()\n"
      ],
      "execution_count": 0,
      "outputs": []
    },
    {
      "metadata": {
        "id": "T2RI0Q0T3ZQX",
        "colab_type": "code",
        "colab": {}
      },
      "cell_type": "code",
      "source": [
        "# second way\n",
        "# def draw_it(raw_strokes):\n",
        "#     image = Image.new(\"P\", (255,255), color=255)\n",
        "#     image_draw = ImageDraw.Draw(image)\n",
        "\n",
        "#     for stroke in eval(raw_strokes):\n",
        "#         for i in range(len(stroke[0])-1):\n",
        "\n",
        "#             image_draw.line([stroke[0][i], \n",
        "#                              stroke[1][i],\n",
        "#                              stroke[0][i+1], \n",
        "#                              stroke[1][i+1]],\n",
        "#                             fill=0, width=6)\n",
        "#             image.show()\n",
        "#     return np.array(image)\n",
        "# img = draw_it(data_mat[0])"
      ],
      "execution_count": 0,
      "outputs": []
    }
  ]
}
